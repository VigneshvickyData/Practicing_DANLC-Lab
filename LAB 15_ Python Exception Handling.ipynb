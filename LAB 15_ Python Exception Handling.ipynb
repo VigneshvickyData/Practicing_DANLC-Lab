{
 "cells": [
  {
   "cell_type": "markdown",
   "id": "4569d5b0",
   "metadata": {},
   "source": [
    "LAB 15_ Python Exception Handling"
   ]
  },
  {
   "cell_type": "code",
   "execution_count": null,
   "id": "773a1ff8",
   "metadata": {},
   "outputs": [
    {
     "name": "stdout",
     "output_type": "stream",
     "text": [
      "Error: Cannot divide by zero.\n",
      "End of operation.\n"
     ]
    }
   ],
   "source": [
    "# Division with Exception Handling\n",
    "def divide_numbers(numerator, denominator):\n",
    "    try:\n",
    "        result = numerator / denominator  \n",
    "        print(\"Result:\", result)\n",
    "    except ZeroDivisionError:\n",
    "        print(\"Error: Cannot divide by zero.\")\n",
    "    except Exception:\n",
    "        print(\"Error: Invalid input.\")\n",
    "    finally:\n",
    "        print(\"End of operation.\")\n",
    "\n",
    "divide_numbers(10, 0)"
   ]
  },
  {
   "cell_type": "code",
   "execution_count": 2,
   "id": "0b533d07",
   "metadata": {},
   "outputs": [
    {
     "name": "stdout",
     "output_type": "stream",
     "text": [
      "Error: Enter a valid integer.\n"
     ]
    }
   ],
   "source": [
    "# Reading an Integer from User\n",
    "def read_integer(value):\n",
    "    try:\n",
    "        n = int(value)  # convert to int\n",
    "        print(\"You entered:\", n)\n",
    "    except ValueError:\n",
    "        print(\"Error: Enter a valid integer.\")\n",
    "\n",
    "read_integer(\"abc\")"
   ]
  },
  {
   "cell_type": "code",
   "execution_count": 3,
   "id": "c5d213ef",
   "metadata": {},
   "outputs": [
    {
     "name": "stdout",
     "output_type": "stream",
     "text": [
      "Error: Index out of range.\n"
     ]
    }
   ],
   "source": [
    "# List Index Access with Exception Handling\n",
    "def print_list_element_at(index, data):\n",
    "    try:\n",
    "        idx = int(index)            # convert to int\n",
    "        print(\"Element:\", data[idx])  # access element\n",
    "    except ValueError:\n",
    "        print(\"Error: Enter an integer index.\")\n",
    "    except IndexError:\n",
    "        print(\"Error: Index out of range.\")\n",
    "\n",
    "data_list = [10, 20, 30, 40, 50]\n",
    "print_list_element_at(7, data_list)"
   ]
  },
  {
   "cell_type": "code",
   "execution_count": 4,
   "id": "4b1052a8",
   "metadata": {},
   "outputs": [
    {
     "name": "stdout",
     "output_type": "stream",
     "text": [
      "InsufficientFundsError: Withdrawal amount exceeds account balance.\n"
     ]
    }
   ],
   "source": [
    "#  Custom Exception - Bank Withdrawal\n",
    "class InsufficientFundsError(Exception):\n",
    "    pass\n",
    "\n",
    "def withdraw(balance, amount):\n",
    "    if amount > balance:\n",
    "        raise InsufficientFundsError(\"Withdrawal amount exceeds account balance.\")\n",
    "    print(f\"Withdrawal successful. New balance: ₹{balance - amount}\")\n",
    "\n",
    "balance = 5000\n",
    "try:\n",
    "    withdraw(balance, 6000)\n",
    "except InsufficientFundsError as e:\n",
    "    print(f\"InsufficientFundsError: {e}\")"
   ]
  },
  {
   "cell_type": "code",
   "execution_count": 5,
   "id": "939fb76a",
   "metadata": {},
   "outputs": [
    {
     "name": "stdout",
     "output_type": "stream",
     "text": [
      "Error: Invalid input or division by zero.\n"
     ]
    }
   ],
   "source": [
    "# Multiple Exception Handling\n",
    "def safe_divide_ints(a, b):\n",
    "    try:\n",
    "        a = int(a)\n",
    "        b = int(b)\n",
    "        print(\"Result:\", a / b)\n",
    "    except (ValueError, ZeroDivisionError):\n",
    "        print(\"Error: Invalid input or division by zero.\")\n",
    "\n",
    "safe_divide_ints(10, \"zero\")"
   ]
  },
  {
   "cell_type": "code",
   "execution_count": 6,
   "id": "92df2e43",
   "metadata": {},
   "outputs": [
    {
     "name": "stdout",
     "output_type": "stream",
     "text": [
      "WeakPasswordError: Password is too short, must be at least 8 characters.\n"
     ]
    }
   ],
   "source": [
    "#  Raise Custom Exception for Password Strength\n",
    "class WeakPasswordError(Exception):\n",
    "    pass\n",
    "\n",
    "def validate_password(password):\n",
    "    if len(password) < 8:\n",
    "        raise WeakPasswordError(\"Password is too short, must be at least 8 characters.\")\n",
    "    print(\"Password is strong.\")\n",
    "\n",
    "try:\n",
    "    validate_password(\"abc123\")\n",
    "except WeakPasswordError as e:\n",
    "    print(f\"WeakPasswordError: {e}\")"
   ]
  }
 ],
 "metadata": {
  "kernelspec": {
   "display_name": "visa",
   "language": "python",
   "name": "python3"
  },
  "language_info": {
   "codemirror_mode": {
    "name": "ipython",
    "version": 3
   },
   "file_extension": ".py",
   "mimetype": "text/x-python",
   "name": "python",
   "nbconvert_exporter": "python",
   "pygments_lexer": "ipython3",
   "version": "3.8.19"
  }
 },
 "nbformat": 4,
 "nbformat_minor": 5
}
