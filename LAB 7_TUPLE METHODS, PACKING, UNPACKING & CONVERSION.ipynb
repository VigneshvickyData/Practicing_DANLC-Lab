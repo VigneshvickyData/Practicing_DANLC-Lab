{
 "cells": [
  {
   "cell_type": "markdown",
   "id": "1d54d9c9",
   "metadata": {},
   "source": [
    "LAB 7: TUPLE METHODS, PACKING, UNPACKING & CONVERSION"
   ]
  },
  {
   "cell_type": "code",
   "execution_count": 1,
   "id": "f2d91f94",
   "metadata": {},
   "outputs": [
    {
     "name": "stdout",
     "output_type": "stream",
     "text": [
      "Employee Profile: ('EMP105', 'Neha', 'Accounts')\n"
     ]
    }
   ],
   "source": [
    "# 1. Employee Profile Record\n",
    "# Creating a tuple to store employee details\n",
    "employee = (\"EMP105\", \"Neha\", \"Accounts\")\n",
    "print(\"Employee Profile:\", employee)\n"
   ]
  },
  {
   "cell_type": "code",
   "execution_count": 2,
   "id": "fae425cd",
   "metadata": {},
   "outputs": [
    {
     "name": "stdout",
     "output_type": "stream",
     "text": [
      "Vehicle Details: ('TN10AB1234', 'Honda', 'White')\n"
     ]
    }
   ],
   "source": [
    "# 2. Vehicle Details Entry\n",
    "# Vehicle details stored as an immutable tuple\n",
    "vehicle = (\"TN10AB1234\", \"Honda\", \"White\")\n",
    "print(\"Vehicle Details:\", vehicle)\n"
   ]
  },
  {
   "cell_type": "code",
   "execution_count": 3,
   "id": "c9a6e34b",
   "metadata": {},
   "outputs": [
    {
     "name": "stdout",
     "output_type": "stream",
     "text": [
      "Number of Projects: 4\n"
     ]
    }
   ],
   "source": [
    "#3. Freelancer Project List\n",
    "# Tuple storing project names\n",
    "projects = (\"Website\", \"App\", \"Data Analysis\", \"SEO\")\n",
    "print(\"Number of Projects:\", len(projects))  # Using len() to count\n"
   ]
  },
  {
   "cell_type": "code",
   "execution_count": 4,
   "id": "3acf7074",
   "metadata": {},
   "outputs": [
    {
     "name": "stdout",
     "output_type": "stream",
     "text": [
      "Number of Stations: 4\n"
     ]
    }
   ],
   "source": [
    "#4. Train Route Stations\n",
    "# Tuple of stations where the train stops\n",
    "stations = (\"Chennai\", \"Katpadi\", \"Bangalore\", \"Hubli\")\n",
    "print(\"Number of Stations:\", len(stations))\n"
   ]
  },
  {
   "cell_type": "code",
   "execution_count": 5,
   "id": "990246c1",
   "metadata": {},
   "outputs": [
    {
     "name": "stdout",
     "output_type": "stream",
     "text": [
      "Number of times 80 appears: 3\n"
     ]
    }
   ],
   "source": [
    "#5. Student Mark Sheet (Count Repeated Marks)\n",
    "# Tuple of student marks\n",
    "marks = (80, 95, 80, 88, 80)\n",
    "print(\"Number of times 80 appears:\", marks.count(80))  # Using count()\n"
   ]
  },
  {
   "cell_type": "code",
   "execution_count": 6,
   "id": "01caf5ec",
   "metadata": {},
   "outputs": [
    {
     "name": "stdout",
     "output_type": "stream",
     "text": [
      "Milk sold count: 3\n"
     ]
    }
   ],
   "source": [
    "#6. Grocery Sales Record\n",
    "# Items sold stored in tuple\n",
    "sales = (\"Milk\", \"Bread\", \"Milk\", \"Juice\", \"Milk\", \"Butter\")\n",
    "print(\"Milk sold count:\", sales.count(\"Milk\"))\n"
   ]
  },
  {
   "cell_type": "code",
   "execution_count": 7,
   "id": "ad931007",
   "metadata": {},
   "outputs": [
    {
     "name": "stdout",
     "output_type": "stream",
     "text": [
      "Index of Lalitha: 2\n"
     ]
    }
   ],
   "source": [
    "#7. Student Registration List\n",
    "# Tuple of student names\n",
    "students = (\"Nisha\", \"Varun\", \"Lalitha\", \"Aravind\")\n",
    "print(\"Index of Lalitha:\", students.index(\"Lalitha\"))  # Using index()\n"
   ]
  },
  {
   "cell_type": "code",
   "execution_count": 8,
   "id": "c76b5f74",
   "metadata": {},
   "outputs": [
    {
     "name": "stdout",
     "output_type": "stream",
     "text": [
      "First index of Watch: 2\n"
     ]
    }
   ],
   "source": [
    "#8. Online Shopping Cart\n",
    "# Tuple of cart items\n",
    "cart = (\"Shoes\", \"Shirt\", \"Watch\", \"Bag\", \"Watch\")\n",
    "print(\"First index of Watch:\", cart.index(\"Watch\"))  # Only returns first match\n"
   ]
  },
  {
   "cell_type": "code",
   "execution_count": 9,
   "id": "e709f24b",
   "metadata": {},
   "outputs": [
    {
     "name": "stdout",
     "output_type": "stream",
     "text": [
      "Player Info (Packed Tuple): ('Virat Kohli', 'Batsman', 18)\n"
     ]
    }
   ],
   "source": [
    "#9. Cricket Player Information\n",
    "# Packing player details into a tuple\n",
    "player = \"Virat Kohli\", \"Batsman\", 18\n",
    "print(\"Player Info (Packed Tuple):\", player)\n"
   ]
  },
  {
   "cell_type": "code",
   "execution_count": 10,
   "id": "2dfc307b",
   "metadata": {},
   "outputs": [
    {
     "name": "stdout",
     "output_type": "stream",
     "text": [
      "Movie Details: ('Leo', 'Action', 8.3)\n"
     ]
    }
   ],
   "source": [
    "#10. Movie Details Record\n",
    "# Packing movie details into a tuple\n",
    "movie = (\"Leo\", \"Action\", 8.3)\n",
    "print(\"Movie Details:\", movie)\n",
    "\n"
   ]
  },
  {
   "cell_type": "code",
   "execution_count": 11,
   "id": "79a86cda",
   "metadata": {},
   "outputs": [
    {
     "name": "stdout",
     "output_type": "stream",
     "text": [
      "ISBN: ISBN1023\n",
      "Title: Atomic Habits\n",
      "Price: 399\n"
     ]
    }
   ],
   "source": [
    "#11. Book Details – Unpacking\n",
    "# Tuple with book details\n",
    "book = (\"ISBN1023\", \"Atomic Habits\", 399)\n",
    "isbn, title, price = book  # Unpacking\n",
    "print(\"ISBN:\", isbn)\n",
    "print(\"Title:\", title)\n",
    "print(\"Price:\", price)\n",
    "\n"
   ]
  },
  {
   "cell_type": "code",
   "execution_count": 12,
   "id": "730c8ad5",
   "metadata": {},
   "outputs": [
    {
     "name": "stdout",
     "output_type": "stream",
     "text": [
      "Tracking ID: PKG1001\n",
      "Type: Electronics\n",
      "Status: Delivered\n"
     ]
    }
   ],
   "source": [
    "#12. Delivery Package Status\n",
    "# Delivery status tuple\n",
    "package = (\"PKG1001\", \"Electronics\", \"Delivered\")\n",
    "tracking_id, item_type, status = package  # Unpacking\n",
    "print(\"Tracking ID:\", tracking_id)\n",
    "print(\"Type:\", item_type)\n",
    "print(\"Status:\", status)\n"
   ]
  },
  {
   "cell_type": "code",
   "execution_count": 13,
   "id": "214cfa21",
   "metadata": {},
   "outputs": [
    {
     "name": "stdout",
     "output_type": "stream",
     "text": [
      "Updated Room Status: ('Room-302', 'Available')\n"
     ]
    }
   ],
   "source": [
    "#13. Update Hotel Room Status\n",
    "# Original room status\n",
    "room = (\"Room-302\", \"Occupied\")\n",
    "room_list = list(room)  # Convert to list\n",
    "room_list[1] = \"Available\"  # Modify status\n",
    "room = tuple(room_list)  # Convert back to tuple\n",
    "print(\"Updated Room Status:\", room)\n"
   ]
  },
  {
   "cell_type": "code",
   "execution_count": 14,
   "id": "9d30a07a",
   "metadata": {},
   "outputs": [
    {
     "name": "stdout",
     "output_type": "stream",
     "text": [
      "Updated Product Info: ('P101', 'Keyboard', 1000)\n"
     ]
    }
   ],
   "source": [
    "#14. Correct Product Price\n",
    "# Original product data\n",
    "product = (\"P101\", \"Keyboard\", 1200)\n",
    "product_list = list(product)  # Convert to list\n",
    "product_list[2] = 1000  # Update price\n",
    "product = tuple(product_list)  # Convert back to tuple\n",
    "print(\"Updated Product Info:\", product)\n"
   ]
  },
  {
   "cell_type": "code",
   "execution_count": 15,
   "id": "12883903",
   "metadata": {},
   "outputs": [
    {
     "name": "stdout",
     "output_type": "stream",
     "text": [
      "Updated List: ['Amit', 'Pooja', 'Mehul']\n",
      "Tuple Error: 'tuple' object does not support item assignment\n"
     ]
    }
   ],
   "source": [
    "#15. List vs Tuple Mutability\n",
    "# List example (mutable)\n",
    "data_list = [\"Amit\", \"Riya\", \"Mehul\"]\n",
    "data_list[1] = \"Pooja\"  # This works\n",
    "print(\"Updated List:\", data_list)\n",
    "\n",
    "# Tuple example (immutable)\n",
    "data_tuple = (\"Amit\", \"Riya\", \"Mehul\")\n",
    "try:\n",
    "    data_tuple[1] = \"Pooja\"  # This will raise an error\n",
    "except TypeError as e:\n",
    "    print(\"Tuple Error:\", e)\n",
    "\n",
    "# Explanation:\n",
    "# Lists are mutable, so elements can be changed.\n",
    "# Tuples are immutable, so modifying values directly raises a TypeError.\n"
   ]
  },
  {
   "cell_type": "code",
   "execution_count": null,
   "id": "c0dce176",
   "metadata": {},
   "outputs": [],
   "source": []
  },
  {
   "cell_type": "code",
   "execution_count": null,
   "id": "9c2f0320",
   "metadata": {},
   "outputs": [],
   "source": []
  }
 ],
 "metadata": {
  "kernelspec": {
   "display_name": "visa",
   "language": "python",
   "name": "python3"
  },
  "language_info": {
   "codemirror_mode": {
    "name": "ipython",
    "version": 3
   },
   "file_extension": ".py",
   "mimetype": "text/x-python",
   "name": "python",
   "nbconvert_exporter": "python",
   "pygments_lexer": "ipython3",
   "version": "3.8.19"
  }
 },
 "nbformat": 4,
 "nbformat_minor": 5
}
