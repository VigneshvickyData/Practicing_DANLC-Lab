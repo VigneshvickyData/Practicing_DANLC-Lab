{
 "cells": [
  {
   "cell_type": "markdown",
   "id": "4ff724f2",
   "metadata": {},
   "source": [
    "LAB 16 – Applied Data Manipulation Using NumPy"
   ]
  },
  {
   "cell_type": "code",
   "execution_count": 1,
   "id": "2f7a5812",
   "metadata": {},
   "outputs": [
    {
     "name": "stdout",
     "output_type": "stream",
     "text": [
      "Temperature Array: [32 34 31 29 35 33 30]\n",
      "Shape: (7,)\n",
      "Size: 7\n",
      "Dimensions: 1\n",
      "Data Type: int32\n",
      "----------------------------------------\n"
     ]
    }
   ],
   "source": [
    "import numpy as np\n",
    "\n",
    "# 1. Temperature Monitoring\n",
    "temps = np.array([32, 34, 31, 29, 35, 33, 30]) \n",
    "print(\"Temperature Array:\", temps)\n",
    "print(\"Shape:\", temps.shape)   \n",
    "print(\"Size:\", temps.size)   \n",
    "print(\"Dimensions:\", temps.ndim)  # number of dimensions\n",
    "print(\"Data Type:\", temps.dtype)  # type of elements\n",
    "\n",
    "print(\"-\" * 40)"
   ]
  },
  {
   "cell_type": "code",
   "execution_count": 2,
   "id": "313975c2",
   "metadata": {},
   "outputs": [
    {
     "name": "stdout",
     "output_type": "stream",
     "text": [
      "Average Attendance: 26.0\n",
      "----------------------------------------\n"
     ]
    }
   ],
   "source": [
    "# 2. Class Attendance\n",
    "# -----------------------------\n",
    "attendance = np.array([25, 28, 26, 27, 24])\n",
    "print(\"Average Attendance:\", np.mean(attendance))\n",
    "\n",
    "print(\"-\" * 40)\n"
   ]
  },
  {
   "cell_type": "code",
   "execution_count": 3,
   "id": "f13c12bb",
   "metadata": {},
   "outputs": [
    {
     "name": "stdout",
     "output_type": "stream",
     "text": [
      "Marks between 3rd and 6th index: [60 92 55 73]\n",
      "----------------------------------------\n"
     ]
    }
   ],
   "source": [
    "# 3. Exam Marks\n",
    "# -----------------------------\n",
    "marks = np.array([45, 78, 88, 60, 92, 55, 73, 81])\n",
    "print(\"Marks between 3rd and 6th index:\", marks[3:7])  # slicing\n",
    "\n",
    "print(\"-\" * 40)\n"
   ]
  },
  {
   "cell_type": "code",
   "execution_count": 4,
   "id": "3ec29342",
   "metadata": {},
   "outputs": [
    {
     "name": "stdout",
     "output_type": "stream",
     "text": [
      "Temperatures (Day 2, 4, 6): [33.  30.2 30. ]\n",
      "----------------------------------------\n"
     ]
    }
   ],
   "source": [
    "# 4. Temperature Readings\n",
    "# -----------------------------\n",
    "temps_readings = np.array([32.5, 33.0, 31.8, 30.2, 29.5, 30.0, 28.9])\n",
    "print(\"Temperatures (Day 2, 4, 6):\", temps_readings[[1, 3, 5]])  # indexing multiple\n",
    "\n",
    "print(\"-\" * 40)"
   ]
  },
  {
   "cell_type": "code",
   "execution_count": 5,
   "id": "02f4007a",
   "metadata": {},
   "outputs": [
    {
     "name": "stdout",
     "output_type": "stream",
     "text": [
      "First 3 products: [120 340 560]\n",
      "Last 2 products: [220 310]\n",
      "----------------------------------------\n"
     ]
    }
   ],
   "source": [
    "# 5. Product Prices\n",
    "# -----------------------------\n",
    "prices = np.array([120, 340, 560, 430, 220, 310])\n",
    "print(\"First 3 products:\", prices[:3])         \n",
    "print(\"Last 2 products:\", prices[-2:])         # last two using negative indexing\n",
    "\n",
    "print(\"-\" * 40)"
   ]
  },
  {
   "cell_type": "code",
   "execution_count": 6,
   "id": "2347e4a5",
   "metadata": {},
   "outputs": [
    {
     "name": "stdout",
     "output_type": "stream",
     "text": [
      "Seating Arrangement (3x4):\n",
      " [[ 1  2  3  4]\n",
      " [ 5  6  7  8]\n",
      " [ 9 10 11 12]]\n",
      "----------------------------------------\n"
     ]
    }
   ],
   "source": [
    "# 6. Seating Arrangement\n",
    "roll_numbers = np.arange(1, 13)  # 1 to 12\n",
    "seating = roll_numbers.reshape(3, 4)  # reshape into 3x4\n",
    "print(\"Seating Arrangement (3x4):\\n\", seating)\n",
    "\n",
    "print(\"-\" * 40)"
   ]
  },
  {
   "cell_type": "code",
   "execution_count": 7,
   "id": "1e03ef73",
   "metadata": {},
   "outputs": [
    {
     "name": "stdout",
     "output_type": "stream",
     "text": [
      "4x4 Matrix:\n",
      " [[ 1  2  3  4]\n",
      " [ 5  6  7  8]\n",
      " [ 9 10 11 12]\n",
      " [13 14 15 16]]\n",
      "Second Row: [5 6 7 8]\n",
      "----------------------------------------\n"
     ]
    }
   ],
   "source": [
    "# 7. Matrix Conversion\n",
    "matrix = np.arange(1, 17).reshape(4, 4)  # 1 to 16 in 4x4\n",
    "print(\"4x4 Matrix:\\n\", matrix)\n",
    "print(\"Second Row:\", matrix[1])  \n",
    "\n",
    "print(\"-\" * 40)"
   ]
  },
  {
   "cell_type": "code",
   "execution_count": 8,
   "id": "d0e063b1",
   "metadata": {},
   "outputs": [
    {
     "name": "stdout",
     "output_type": "stream",
     "text": [
      "Sorted Rainfall: [ 87  95  98 110 120 130]\n",
      "Highest Rainfall: 130\n",
      "----------------------------------------\n"
     ]
    }
   ],
   "source": [
    "# 8. Monthly Rainfall\n",
    "rainfall = np.array([110, 98, 120, 87, 130, 95])\n",
    "sorted_rainfall = np.sort(rainfall)  # sort values\n",
    "print(\"Sorted Rainfall:\", sorted_rainfall)\n",
    "print(\"Highest Rainfall:\", sorted_rainfall[-1])  # last element is highest\n",
    "\n",
    "print(\"-\" * 40)"
   ]
  },
  {
   "cell_type": "code",
   "execution_count": 9,
   "id": "deafc637",
   "metadata": {},
   "outputs": [
    {
     "name": "stdout",
     "output_type": "stream",
     "text": [
      "Merged Departments: [1 2 3 4 5 6 7]\n",
      "----------------------------------------\n"
     ]
    }
   ],
   "source": [
    "# 9. Merging Departments\n",
    "science = np.array([1, 2, 3, 4])\n",
    "arts = np.array([5, 6, 7])\n",
    "merged = np.concatenate((science, arts))  # merge arrays\n",
    "print(\"Merged Departments:\", merged)\n",
    "\n",
    "print(\"-\" * 40)"
   ]
  },
  {
   "cell_type": "code",
   "execution_count": 10,
   "id": "60d015a6",
   "metadata": {},
   "outputs": [
    {
     "name": "stdout",
     "output_type": "stream",
     "text": [
      "Profit for each month: [ 500 1000 1500]\n"
     ]
    }
   ],
   "source": [
    "# 10. Profit Calculation\n",
    "revenue = np.array([2000, 3000, 4000])\n",
    "expenses = np.array([1500, 2000, 2500])\n",
    "profit = revenue - expenses  # element-wise subtraction\n",
    "print(\"Profit for each month:\", profit)"
   ]
  }
 ],
 "metadata": {
  "kernelspec": {
   "display_name": "visa",
   "language": "python",
   "name": "python3"
  },
  "language_info": {
   "codemirror_mode": {
    "name": "ipython",
    "version": 3
   },
   "file_extension": ".py",
   "mimetype": "text/x-python",
   "name": "python",
   "nbconvert_exporter": "python",
   "pygments_lexer": "ipython3",
   "version": "3.8.19"
  }
 },
 "nbformat": 4,
 "nbformat_minor": 5
}
