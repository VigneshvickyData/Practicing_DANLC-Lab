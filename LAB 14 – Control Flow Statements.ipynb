{
 "cells": [
  {
   "cell_type": "markdown",
   "id": "fcd093e8",
   "metadata": {},
   "source": [
    "LAB 14 – Control Flow Statements"
   ]
  },
  {
   "cell_type": "code",
   "execution_count": 3,
   "id": "19c1f3b6",
   "metadata": {},
   "outputs": [
    {
     "name": "stdout",
     "output_type": "stream",
     "text": [
      "ATM Withdrawal Simulator\n",
      "Current Balance: ₹10000\n",
      "Withdrawal successful. Updated Balance: ₹4000\n",
      "Current Balance: ₹4000\n",
      "Withdrawal successful. Updated Balance: ₹2000\n",
      "Current Balance: ₹2000\n",
      "Insufficient funds. Please enter a valid amount.\n",
      "Current Balance: ₹2000\n",
      "Withdrawal successful. Updated Balance: ₹0\n",
      "ATM Out of Service\n",
      "\n",
      "\n"
     ]
    }
   ],
   "source": [
    "# Ques 1: ATM Withdrawal Simulator\n",
    "\n",
    "print(\"ATM Withdrawal Simulator\")\n",
    "balance = 10000  \n",
    "\n",
    "while True:\n",
    "    print(f\"Current Balance: ₹{balance}\")\n",
    "    withdraw = int(input(\"Enter amount to withdraw: ₹\"))\n",
    "\n",
    "    if withdraw > balance:\n",
    "        print(\"Insufficient funds. Please enter a valid amount.\")\n",
    "        continue  # Skip the rest and ask again\n",
    "\n",
    "    balance -= withdraw\n",
    "    print(f\"Withdrawal successful. Updated Balance: ₹{balance}\")\n",
    "\n",
    "    if balance == 0:\n",
    "        print(\"ATM Out of Service\")\n",
    "        break  # Exit the loop once balance becomes zero\n",
    "\n",
    "print(\"\\n\")"
   ]
  },
  {
   "cell_type": "code",
   "execution_count": 4,
   "id": "4c38c9d9",
   "metadata": {},
   "outputs": [
    {
     "name": "stdout",
     "output_type": "stream",
     "text": [
      "Food Menu Selector\n",
      "\n",
      "Menu:\n",
      "1. Pizza\n",
      "2. Burger\n",
      "3. Sandwich\n",
      "4. Exit\n",
      "Sandwich selected\n",
      "\n",
      "Menu:\n",
      "1. Pizza\n",
      "2. Burger\n",
      "3. Sandwich\n",
      "4. Exit\n",
      "Exiting...\n"
     ]
    }
   ],
   "source": [
    "# Ques 2: Food Menu Selector\n",
    "\n",
    "print(\"Food Menu Selector\")\n",
    "while True:\n",
    "    # Display the menu options\n",
    "    print(\"\\nMenu:\")\n",
    "    print(\"1. Pizza\")\n",
    "    print(\"2. Burger\")\n",
    "    print(\"3. Sandwich\")\n",
    "    print(\"4. Exit\")\n",
    "\n",
    "    choice = input(\"Enter your choice (1-4): \")\n",
    "\n",
    "    if choice == \"1\":\n",
    "        print(\"Pizza selected\")\n",
    "    elif choice == \"2\":\n",
    "        print(\"Burger selected\")\n",
    "    elif choice == \"3\":\n",
    "        print(\"Sandwich selected\")\n",
    "    elif choice == \"4\":\n",
    "        print(\"Exiting...\")\n",
    "        break  # Exit the loop when user chooses to exit\n",
    "    else:\n",
    "        print(\"Invalid choice. Please select a valid option.\")\n"
   ]
  }
 ],
 "metadata": {
  "kernelspec": {
   "display_name": "visa",
   "language": "python",
   "name": "python3"
  },
  "language_info": {
   "codemirror_mode": {
    "name": "ipython",
    "version": 3
   },
   "file_extension": ".py",
   "mimetype": "text/x-python",
   "name": "python",
   "nbconvert_exporter": "python",
   "pygments_lexer": "ipython3",
   "version": "3.8.19"
  }
 },
 "nbformat": 4,
 "nbformat_minor": 5
}
