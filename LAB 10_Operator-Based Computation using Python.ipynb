{
 "cells": [
  {
   "cell_type": "markdown",
   "id": "c7b66a31",
   "metadata": {},
   "source": [
    "LAB 10_Operator-Based Computation using Python"
   ]
  },
  {
   "cell_type": "code",
   "execution_count": 1,
   "id": "b4de5a0e",
   "metadata": {},
   "outputs": [
    {
     "name": "stdout",
     "output_type": "stream",
     "text": [
      "Arithmetic Operators:\n",
      "Addition (a + b): 30\n",
      "Subtraction (a - b): 20\n",
      "Multiplication (a * b): 125\n",
      "Division (a / b): 5.0\n",
      "Floor Division (a // b): 5\n",
      "Modulus (a % b): 0\n",
      "Exponent (a ** b): 9765625\n",
      "\n",
      "\n"
     ]
    }
   ],
   "source": [
    "# 1. Arithmetic Operators\n",
    "a = 25\n",
    "b = 5\n",
    "\n",
    "print(\"Arithmetic Operators:\")\n",
    "print(\"Addition (a + b):\", a + b)           \n",
    "print(\"Subtraction (a - b):\", a - b)          \n",
    "print(\"Multiplication (a * b):\", a * b)       \n",
    "print(\"Division (a / b):\", a / b)             # 25 / 5 = 5.0 (float division)\n",
    "print(\"Floor Division (a // b):\", a // b)     # 25 // 5 = 5 (integer division)\n",
    "print(\"Modulus (a % b):\", a % b)             \n",
    "print(\"Exponent (a ** b):\", a ** b)           \n",
    "\n",
    "print(\"\\n\")"
   ]
  },
  {
   "cell_type": "code",
   "execution_count": 2,
   "id": "9b139d8d",
   "metadata": {},
   "outputs": [
    {
     "name": "stdout",
     "output_type": "stream",
     "text": [
      "Assignment Operators:\n",
      "Initial x: 10\n",
      "After x += 5: 15\n",
      "After x -= 2: 13\n",
      "After x *= 3: 39\n",
      "\n",
      "\n"
     ]
    }
   ],
   "source": [
    "# 2. Assignment Operators\n",
    "\n",
    "x = 10\n",
    "print(\"Assignment Operators:\")\n",
    "print(\"Initial x:\", x)\n",
    "\n",
    "x += 5      # Add 5 to x\n",
    "print(\"After x += 5:\", x)    \n",
    "\n",
    "x -= 2      # Subtract 2 from x\n",
    "print(\"After x -= 2:\", x)    \n",
    "\n",
    "x *= 3      # Multiply x by 3\n",
    "print(\"After x *= 3:\", x)     \n",
    "\n",
    "print(\"\\n\")"
   ]
  },
  {
   "cell_type": "code",
   "execution_count": 4,
   "id": "36fe31c8",
   "metadata": {},
   "outputs": [
    {
     "name": "stdout",
     "output_type": "stream",
     "text": [
      "Comparison Operators:\n",
      "x == y: False\n",
      "x != y: True\n",
      "x > y: False\n",
      "x < y: True\n",
      "x >= y: False\n",
      "x <= y: True\n",
      "\n",
      "\n"
     ]
    }
   ],
   "source": [
    "# 3. Comparison Operators\n",
    "\n",
    "x = 15\n",
    "y = 20\n",
    "\n",
    "print(\"Comparison Operators:\")\n",
    "print(\"x == y:\", x == y)    \n",
    "print(\"x != y:\", x != y)     \n",
    "print(\"x > y:\", x > y)      \n",
    "print(\"x < y:\", x < y)      \n",
    "print(\"x >= y:\", x >= y)    \n",
    "print(\"x <= y:\", x <= y)    \n",
    "\n",
    "print(\"\\n\")\n"
   ]
  },
  {
   "cell_type": "code",
   "execution_count": 5,
   "id": "67cb3429",
   "metadata": {},
   "outputs": [
    {
     "name": "stdout",
     "output_type": "stream",
     "text": [
      "Logical Operators:\n",
      "(a > b) and (b > 5): True\n",
      "(a < b) or (b == 10): True\n",
      "not (a == b): True\n",
      "not (a < 30): False\n",
      "\n",
      "\n"
     ]
    }
   ],
   "source": [
    "# 4. Logical Operators Based on Comparison Values\n",
    "\n",
    "a = 20\n",
    "b = 10\n",
    "\n",
    "print(\"Logical Operators:\")\n",
    "print(\"(a > b) and (b > 5):\", (a > b) and (b > 5))       \n",
    "print(\"(a < b) or (b == 10):\", (a < b) or (b == 10))     \n",
    "print(\"not (a == b):\", not (a == b))                    \n",
    "print(\"not (a < 30):\", not (a < 30))         \n",
    "\n",
    "print(\"\\n\")"
   ]
  },
  {
   "cell_type": "code",
   "execution_count": 6,
   "id": "33a17cb1",
   "metadata": {},
   "outputs": [
    {
     "name": "stdout",
     "output_type": "stream",
     "text": [
      "Bitwise Operators:\n",
      "a & b: 2\n",
      "a | b: 7\n",
      "a ^ b: 5\n",
      "~a: -7\n",
      "a << 1: 12\n",
      "b >> 1: 1\n",
      "\n",
      "\n"
     ]
    }
   ],
   "source": [
    "# 5. Bitwise Operators\n",
    "# a = 6 (0110), b = 3 (0011)\n",
    "a = 6\n",
    "b = 3\n",
    "\n",
    "print(\"Bitwise Operators:\")\n",
    "print(\"a & b:\", a & b)       # 0110 & 0011 = 0010 (2)\n",
    "print(\"a | b:\", a | b)       # 0110 | 0011 = 0111 (7)\n",
    "print(\"a ^ b:\", a ^ b)       # 0110 ^ 0011 = 0101 (5)\n",
    "print(\"~a:\", ~a)             # ~0110 = -(6+1) = -7 (bitwise NOT)\n",
    "print(\"a << 1:\", a << 1)     # 0110 << 1 = 1100 = 12 (left shift)\n",
    "print(\"b >> 1:\", b >> 1)     # 0011 >> 1 = 0001 = 1 (right shift)\n",
    "\n",
    "print(\"\\n\")\n"
   ]
  },
  {
   "cell_type": "code",
   "execution_count": 7,
   "id": "d7efc3d5",
   "metadata": {},
   "outputs": [
    {
     "name": "stdout",
     "output_type": "stream",
     "text": [
      "Identity Operators:\n",
      "a is b: True\n",
      "a is c: False\n",
      "a is not c: True\n",
      "\n",
      "\n"
     ]
    }
   ],
   "source": [
    "# 6. Identity Operators\n",
    "\n",
    "a = [1, 2, 3]\n",
    "b = a\n",
    "c = [1, 2, 3]\n",
    "\n",
    "print(\"Identity Operators:\")\n",
    "print(\"a is b:\", a is b)            \n",
    "print(\"a is c:\", a is c)            \n",
    "print(\"a is not c:\", a is not c)     \n",
    "\n",
    "print(\"\\n\")"
   ]
  },
  {
   "cell_type": "code",
   "execution_count": 9,
   "id": "351992c1",
   "metadata": {},
   "outputs": [
    {
     "name": "stdout",
     "output_type": "stream",
     "text": [
      "Membership Operators:\n",
      "'pen' in items: True\n",
      "'scale' in items: False\n",
      "'marker' not in items: True\n",
      "'book' not in items: False\n"
     ]
    }
   ],
   "source": [
    "# 7. Membership Operators\n",
    "items = ['pen', 'pencil', 'book']\n",
    "\n",
    "print(\"Membership Operators:\")\n",
    "print(\"'pen' in items:\", 'pen' in items)   \n",
    "print(\"'scale' in items:\", 'scale' in items)    \n",
    "print(\"'marker' not in items:\", 'marker' not in items)\n",
    "print(\"'book' not in items:\", 'book' not in items)    "
   ]
  }
 ],
 "metadata": {
  "kernelspec": {
   "display_name": "visa",
   "language": "python",
   "name": "python3"
  },
  "language_info": {
   "codemirror_mode": {
    "name": "ipython",
    "version": 3
   },
   "file_extension": ".py",
   "mimetype": "text/x-python",
   "name": "python",
   "nbconvert_exporter": "python",
   "pygments_lexer": "ipython3",
   "version": "3.8.19"
  }
 },
 "nbformat": 4,
 "nbformat_minor": 5
}
