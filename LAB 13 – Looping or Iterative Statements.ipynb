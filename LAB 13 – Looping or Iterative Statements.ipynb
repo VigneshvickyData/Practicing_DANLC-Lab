{
 "cells": [
  {
   "cell_type": "markdown",
   "id": "48bf29be",
   "metadata": {},
   "source": [
    "LAB 13 – Looping or Iterative Statements"
   ]
  },
  {
   "cell_type": "code",
   "execution_count": 1,
   "id": "fbf7e4b1",
   "metadata": {},
   "outputs": [
    {
     "name": "stdout",
     "output_type": "stream",
     "text": [
      "Office Email Sender Simulation:\n",
      "Sending welcome email to Aarav\n",
      "Sending welcome email to Diya\n",
      "Sending welcome email to Karthik\n",
      "Sending welcome email to Sneha\n",
      "Sending welcome email to Rahul\n",
      "\n",
      "\n"
     ]
    }
   ],
   "source": [
    "# Ques 1: Office Email Sender Simulation\n",
    "employees = [\"Aarav\", \"Diya\", \"Karthik\", \"Sneha\", \"Rahul\"]\n",
    "\n",
    "print(\"Office Email Sender Simulation:\")\n",
    "for name in employees:\n",
    "    print(f\"Sending welcome email to {name}\")  # Loop through list and print message\n",
    "\n",
    "print(\"\\n\")\n"
   ]
  },
  {
   "cell_type": "code",
   "execution_count": 2,
   "id": "e9796df3",
   "metadata": {},
   "outputs": [
    {
     "name": "stdout",
     "output_type": "stream",
     "text": [
      "Gym Workout Repetition Tracker:\n",
      "Push-up 1\n",
      "Push-up 2\n",
      "Push-up 3\n",
      "Push-up 4\n",
      "Push-up 5\n",
      "Push-up 6\n",
      "Push-up 7\n",
      "Push-up 8\n",
      "Push-up 9\n",
      "Push-up 10\n",
      "\n",
      "\n"
     ]
    }
   ],
   "source": [
    "# Ques 2: Gym Workout Repetition Tracker\n",
    "print(\"Gym Workout Repetition Tracker:\")\n",
    "for i in range(1, 11):  \n",
    "    print(f\"Push-up {i}\") \n",
    "\n",
    "print(\"\\n\")"
   ]
  },
  {
   "cell_type": "code",
   "execution_count": 3,
   "id": "9aae897f",
   "metadata": {},
   "outputs": [
    {
     "name": "stdout",
     "output_type": "stream",
     "text": [
      "OTP Verification System:\n",
      "Verified\n",
      "\n",
      "\n"
     ]
    }
   ],
   "source": [
    "# Ques 3: OTP Verification System with Retry Limit\n",
    "correct_otp = \"1234\"\n",
    "attempts = 0\n",
    "max_attempts = 3\n",
    "\n",
    "print(\"OTP Verification System:\")\n",
    "while attempts < max_attempts:\n",
    "    user_input = input(\"Enter OTP: \")\n",
    "    if user_input == correct_otp:\n",
    "        print(\"Verified\")\n",
    "        break  # Exit loop on correct OTP\n",
    "    else:\n",
    "        attempts += 1\n",
    "        print(f\"Incorrect OTP. Attempts left: {max_attempts - attempts}\")\n",
    "\n",
    "if attempts == max_attempts:\n",
    "    print(\"Try again later\")  # After 3 failed attempts\n",
    "\n",
    "print(\"\\n\")"
   ]
  },
  {
   "cell_type": "code",
   "execution_count": 4,
   "id": "fd23ed5d",
   "metadata": {},
   "outputs": [
    {
     "name": "stdout",
     "output_type": "stream",
     "text": [
      "Food Ordering System\n",
      "Menu: Pizza, Burger, Pasta\n",
      "Type 'exit' to stop ordering.\n",
      "Item not available.\n",
      "Total items ordered: 0\n",
      "\n",
      "\n"
     ]
    }
   ],
   "source": [
    "# Ques 4: Food Ordering Loop\n",
    "menu = [\"Pizza\", \"Burger\", \"Pasta\"]\n",
    "order_count = 0\n",
    "\n",
    "print(\"Food Ordering System\")\n",
    "print(\"Menu:\", \", \".join(menu))\n",
    "print(\"Type 'exit' to stop ordering.\")\n",
    "\n",
    "while True:\n",
    "    item = input(\"Enter food item: \").strip()\n",
    "    if item.lower() == \"exit\":\n",
    "        break  # Stop when user types exit\n",
    "    elif item in menu:\n",
    "        print(f\"{item} added to your order.\")\n",
    "        order_count += 1\n",
    "    else:\n",
    "        print(\"Item not available.\")\n",
    "\n",
    "print(f\"Total items ordered: {order_count}\")\n",
    "\n",
    "print(\"\\n\")"
   ]
  },
  {
   "cell_type": "code",
   "execution_count": 5,
   "id": "1f48d4ad",
   "metadata": {},
   "outputs": [
    {
     "name": "stdout",
     "output_type": "stream",
     "text": [
      "Smart Door Lock System\n",
      "Access Granted\n"
     ]
    }
   ],
   "source": [
    "# Ques 5: Smart Door Lock System\n",
    "print(\"Smart Door Lock System\")\n",
    "\n",
    "while True:\n",
    "    password = input(\"Enter password: \")\n",
    "    if password == \"admin123\":\n",
    "        print(\"Access Granted\")\n",
    "        break  # Exit loop when correct password is entered\n",
    "    else:\n",
    "        print(\"Incorrect password. Try again.\")\n"
   ]
  }
 ],
 "metadata": {
  "kernelspec": {
   "display_name": "visa",
   "language": "python",
   "name": "python3"
  },
  "language_info": {
   "codemirror_mode": {
    "name": "ipython",
    "version": 3
   },
   "file_extension": ".py",
   "mimetype": "text/x-python",
   "name": "python",
   "nbconvert_exporter": "python",
   "pygments_lexer": "ipython3",
   "version": "3.8.19"
  }
 },
 "nbformat": 4,
 "nbformat_minor": 5
}
