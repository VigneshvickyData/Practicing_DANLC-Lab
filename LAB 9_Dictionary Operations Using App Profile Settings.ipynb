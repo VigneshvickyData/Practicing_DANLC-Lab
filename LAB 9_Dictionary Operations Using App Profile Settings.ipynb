{
 "cells": [
  {
   "cell_type": "markdown",
   "id": "e5fb5a1f",
   "metadata": {},
   "source": [
    "# LAB 9: Dictionary Operations Using App Profile Settings\n"
   ]
  },
  {
   "cell_type": "code",
   "execution_count": 1,
   "id": "85fdd203",
   "metadata": {},
   "outputs": [
    {
     "name": "stdout",
     "output_type": "stream",
     "text": [
      "Initial Profile: {'Username': 'python_user', 'Email': 'python@gmail.com', 'Phone': '9876543210'}\n"
     ]
    }
   ],
   "source": [
    "# Question 1: Create a Profile\n",
    "profile = {\n",
    "    \"Username\": \"python_user\",\n",
    "    \"Email\": \"python@gmail.com\",\n",
    "    \"Phone\": \"9876543210\"\n",
    "}\n",
    "print(\"Initial Profile:\", profile)  # Display the initial profile"
   ]
  },
  {
   "cell_type": "code",
   "execution_count": 2,
   "id": "904640d2",
   "metadata": {},
   "outputs": [
    {
     "name": "stdout",
     "output_type": "stream",
     "text": [
      "Email Address: python@gmail.com\n"
     ]
    }
   ],
   "source": [
    "# Question 2: Access Email Address\n",
    "print(\"Email Address:\", profile[\"Email\"])  # Accessing the value using the key"
   ]
  },
  {
   "cell_type": "code",
   "execution_count": 3,
   "id": "5926c561",
   "metadata": {},
   "outputs": [
    {
     "name": "stdout",
     "output_type": "stream",
     "text": [
      "Profile after adding Theme: {'Username': 'python_user', 'Email': 'python@gmail.com', 'Phone': '9876543210', 'Theme': 'Dark Mode'}\n"
     ]
    }
   ],
   "source": [
    "# Question 3: Add a New Field – Theme\n",
    "profile[\"Theme\"] = \"Dark Mode\"  # Adding a new key-value pair\n",
    "print(\"Profile after adding Theme:\", profile)"
   ]
  },
  {
   "cell_type": "code",
   "execution_count": 4,
   "id": "baa5431d",
   "metadata": {},
   "outputs": [
    {
     "name": "stdout",
     "output_type": "stream",
     "text": [
      "Profile after phone update: {'Username': 'python_user', 'Email': 'python@gmail.com', 'Phone': '9998887777', 'Theme': 'Dark Mode'}\n"
     ]
    }
   ],
   "source": [
    "# Question 4: Update Phone Number\n",
    "profile[\"Phone\"] = \"9998887777\"  # Updating the value of an existing key\n",
    "print(\"Profile after phone update:\", profile)"
   ]
  },
  {
   "cell_type": "code",
   "execution_count": 5,
   "id": "5df7e420",
   "metadata": {},
   "outputs": [
    {
     "name": "stdout",
     "output_type": "stream",
     "text": [
      "Profile after removing Email: {'Username': 'python_user', 'Phone': '9998887777', 'Theme': 'Dark Mode'}\n"
     ]
    }
   ],
   "source": [
    "# Question 5: Remove the Email\n",
    "profile.pop(\"Email\")  # Removes the Email key from the dictionary\n",
    "print(\"Profile after removing Email:\", profile)"
   ]
  },
  {
   "cell_type": "code",
   "execution_count": 6,
   "id": "3ece0ad7",
   "metadata": {},
   "outputs": [
    {
     "name": "stdout",
     "output_type": "stream",
     "text": [
      "Profile after removing Theme: {'Username': 'python_user', 'Phone': '9998887777'}\n"
     ]
    }
   ],
   "source": [
    "# Question 6: Remove Theme Setting\n",
    "del profile[\"Theme\"]  # Removes the Theme key using del statement\n",
    "print(\"Profile after removing Theme:\", profile)"
   ]
  },
  {
   "cell_type": "code",
   "execution_count": 7,
   "id": "08d9575a",
   "metadata": {},
   "outputs": [
    {
     "name": "stdout",
     "output_type": "stream",
     "text": [
      "Backup Profile: {'Username': 'python_user', 'Phone': '9998887777'}\n"
     ]
    }
   ],
   "source": [
    "# Question 7: Copy the Profile\n",
    "backup_profile = profile.copy()  # Creates a copy of the dictionary\n",
    "print(\"Backup Profile:\", backup_profile)"
   ]
  },
  {
   "cell_type": "code",
   "execution_count": 8,
   "id": "a8c5d481",
   "metadata": {},
   "outputs": [
    {
     "name": "stdout",
     "output_type": "stream",
     "text": [
      "Profile after merging settings: {'Username': 'python_user', 'Phone': '9998887777', 'Notifications': 'On', 'Language': 'English'}\n"
     ]
    }
   ],
   "source": [
    "# Question 8: Add Notification Settings\n",
    "settings = {\n",
    "    \"Notifications\": \"On\",\n",
    "    \"Language\": \"English\"\n",
    "}\n",
    "profile.update(settings)  # Merges settings dictionary into profile\n",
    "print(\"Profile after merging settings:\", profile)"
   ]
  },
  {
   "cell_type": "code",
   "execution_count": 11,
   "id": "85e90e2d",
   "metadata": {},
   "outputs": [
    {
     "name": "stdout",
     "output_type": "stream",
     "text": [
      "Profile Keys: dict_keys(['Username', 'Phone', 'Notifications', 'Language'])\n"
     ]
    }
   ],
   "source": [
    "# Question 9: Show All Profile Keys\n",
    "print(\"Profile Keys:\", profile.keys())  "
   ]
  },
  {
   "cell_type": "code",
   "execution_count": 12,
   "id": "602e7f11",
   "metadata": {},
   "outputs": [
    {
     "name": "stdout",
     "output_type": "stream",
     "text": [
      "Profile Values: dict_values(['python_user', '9998887777', 'On', 'English'])\n"
     ]
    }
   ],
   "source": [
    "# Question 10: Show All Profile Values\n",
    "print(\"Profile Values:\", profile.values()) "
   ]
  },
  {
   "cell_type": "code",
   "execution_count": 13,
   "id": "25c1b4c9",
   "metadata": {},
   "outputs": [
    {
     "name": "stdout",
     "output_type": "stream",
     "text": [
      "Profile Items: dict_items([('Username', 'python_user'), ('Phone', '9998887777'), ('Notifications', 'On'), ('Language', 'English')])\n"
     ]
    }
   ],
   "source": [
    "# Question 11: Show All Key-Value Pairs\n",
    "print(\"Profile Items:\", profile.items())  \n"
   ]
  },
  {
   "cell_type": "code",
   "execution_count": 14,
   "id": "8c9192ec",
   "metadata": {},
   "outputs": [
    {
     "name": "stdout",
     "output_type": "stream",
     "text": [
      "Duplicate Key Test Dictionary: {'Username': 'second_user'}\n"
     ]
    }
   ],
   "source": [
    "# Question 15: Duplicate Key Check\n",
    "# If a key is repeated, the last value will overwrite the previous one.\n",
    "duplicate_test = {\n",
    "    \"Username\": \"first_user\",\n",
    "    \"Username\": \"second_user\"\n",
    "}\n",
    "print(\"Duplicate Key Test Dictionary:\", duplicate_test)\n",
    "# Observation: \"Username\" stores \"second_user\" because duplicate keys are overwritten."
   ]
  }
 ],
 "metadata": {
  "kernelspec": {
   "display_name": "visa",
   "language": "python",
   "name": "python3"
  },
  "language_info": {
   "codemirror_mode": {
    "name": "ipython",
    "version": 3
   },
   "file_extension": ".py",
   "mimetype": "text/x-python",
   "name": "python",
   "nbconvert_exporter": "python",
   "pygments_lexer": "ipython3",
   "version": "3.8.19"
  }
 },
 "nbformat": 4,
 "nbformat_minor": 5
}
