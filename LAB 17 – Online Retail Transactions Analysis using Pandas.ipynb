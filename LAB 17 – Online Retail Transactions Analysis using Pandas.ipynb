{
 "cells": [
  {
   "cell_type": "markdown",
   "id": "d6c00cf4",
   "metadata": {},
   "source": [
    "LAB 17 – Online Retail Transactions Analysis using Pandas"
   ]
  },
  {
   "cell_type": "code",
   "execution_count": 1,
   "id": "4b8313c5",
   "metadata": {},
   "outputs": [],
   "source": [
    "# Import pandas\n",
    "import pandas as pd"
   ]
  },
  {
   "cell_type": "code",
   "execution_count": 2,
   "id": "3157bb85",
   "metadata": {},
   "outputs": [],
   "source": [
    "# 1. Load the dataset into a Pandas DataFrame\n",
    "df = pd.read_csv(\"online_retail_transactions.csv\", low_memory=False)"
   ]
  },
  {
   "cell_type": "code",
   "execution_count": 3,
   "id": "7497b720",
   "metadata": {},
   "outputs": [
    {
     "name": "stdout",
     "output_type": "stream",
     "text": [
      "Shape of dataset: (1000, 8)\n"
     ]
    }
   ],
   "source": [
    "# After loading, check the shape of the dataset\n",
    "print(\"Shape of dataset:\", df.shape)"
   ]
  },
  {
   "cell_type": "code",
   "execution_count": 4,
   "id": "5b08d20e",
   "metadata": {},
   "outputs": [
    {
     "name": "stdout",
     "output_type": "stream",
     "text": [
      "  order_id           order_date customer_id product_category payment_method  \\\n",
      "0  ORD1000  2025-01-01 00:00:00     CUST923            Books            UPI   \n",
      "1  ORD1001  2025-01-01 01:00:00     CUST667             Toys           Card   \n",
      "2  ORD1002  2025-01-01 02:00:00     CUST504              NaN            UPI   \n",
      "3  ORD1003  2025-01-01 03:00:00     CUST701             Toys            UPI   \n",
      "4  ORD1004  2025-01-01 04:00:00     CUST461             Toys         Wallet   \n",
      "5  ORD1005  2025-01-01 05:00:00     CUST830         Clothing            COD   \n",
      "6  ORD1006  2025-01-01 06:00:00     CUST343             Home            COD   \n",
      "7  ORD1007  2025-01-01 07:00:00     CUST228             Home            UPI   \n",
      "8  ORD1008  2025-01-01 08:00:00     CUST803             Home         Wallet   \n",
      "9  ORD1009  2025-01-01 09:00:00     CUST599             Toys            UPI   \n",
      "\n",
      "   quantity  unit_price  total_amount  \n",
      "0         2     1387.53       2775.06  \n",
      "1         4     1982.70       7930.80  \n",
      "2         2     1507.08       3014.16  \n",
      "3         5     1492.97       7464.85  \n",
      "4         5     1903.11       9515.55  \n",
      "5         4      445.73       1782.92  \n",
      "6         2     1152.82       2305.64  \n",
      "7         5     1960.31       9801.55  \n",
      "8         3      372.32       1116.96  \n",
      "9         1     1415.49       1415.49  \n"
     ]
    }
   ],
   "source": [
    "# 2. Display the first 10 rows of the dataset\n",
    "print(df.head(10))\n"
   ]
  },
  {
   "cell_type": "code",
   "execution_count": 5,
   "id": "98b7b410",
   "metadata": {},
   "outputs": [
    {
     "name": "stdout",
     "output_type": "stream",
     "text": [
      "order_id             object\n",
      "order_date           object\n",
      "customer_id          object\n",
      "product_category     object\n",
      "payment_method       object\n",
      "quantity              int64\n",
      "unit_price          float64\n",
      "total_amount        float64\n",
      "dtype: object\n"
     ]
    }
   ],
   "source": [
    "# 3. Check the data types of all the columns in the dataset\n",
    "print(df.dtypes)"
   ]
  },
  {
   "cell_type": "code",
   "execution_count": 6,
   "id": "51fa84e0",
   "metadata": {},
   "outputs": [
    {
     "name": "stdout",
     "output_type": "stream",
     "text": [
      "order_id             0\n",
      "order_date           0\n",
      "customer_id          0\n",
      "product_category    20\n",
      "payment_method      20\n",
      "quantity             0\n",
      "unit_price           0\n",
      "total_amount         0\n",
      "dtype: int64\n"
     ]
    }
   ],
   "source": [
    "# 4. Find the number of missing values in each column\n",
    "print(df.isna().sum())"
   ]
  },
  {
   "cell_type": "code",
   "execution_count": 7,
   "id": "bc9c3426",
   "metadata": {},
   "outputs": [
    {
     "name": "stdout",
     "output_type": "stream",
     "text": [
      "   order_id           order_date customer_id product_category payment_method  \\\n",
      "21  ORD1021  2025-01-01 21:00:00     CUST466      Electronics           Card   \n",
      "28  ORD1028  2025-01-02 04:00:00     CUST290      Electronics            COD   \n",
      "40  ORD1040  2025-01-02 16:00:00     CUST965      Electronics           Card   \n",
      "45  ORD1045  2025-01-02 21:00:00     CUST833      Electronics            UPI   \n",
      "48  ORD1048  2025-01-03 00:00:00     CUST655      Electronics            COD   \n",
      "\n",
      "    quantity  unit_price  total_amount  \n",
      "21         4      898.60       3594.40  \n",
      "28         4     1571.42       6285.68  \n",
      "40         4      587.65       2350.60  \n",
      "45         5      886.33       4431.65  \n",
      "48         3      354.94       1064.82  \n"
     ]
    }
   ],
   "source": [
    "# 5. Filter the dataset: product_category = \"Electronics\" and quantity > 2\n",
    "df[\"quantity\"] = pd.to_numeric(df[\"quantity\"], errors=\"coerce\")   # ensure numeric\n",
    "electronics_gt2 = df[(df[\"product_category\"] == \"Electronics\") & (df[\"quantity\"] > 2)]\n",
    "print(electronics_gt2.head())"
   ]
  },
  {
   "cell_type": "code",
   "execution_count": 8,
   "id": "0f3dab29",
   "metadata": {},
   "outputs": [
    {
     "name": "stdout",
     "output_type": "stream",
     "text": [
      "    order_id           order_date customer_id product_category payment_method  \\\n",
      "232  ORD1232  2025-01-10 16:00:00     CUST946             Home         Wallet   \n",
      "871  ORD1871  2025-02-06 07:00:00     CUST774      Electronics           Card   \n",
      "368  ORD1368  2025-01-16 08:00:00     CUST941      Electronics           Card   \n",
      "837  ORD1837  2025-02-04 21:00:00     CUST736      Electronics         Wallet   \n",
      "838  ORD1838  2025-02-04 22:00:00     CUST963      Electronics            COD   \n",
      "\n",
      "     quantity  unit_price  total_amount  \n",
      "232         1       50.37         50.37  \n",
      "871         1       50.86         50.86  \n",
      "368         1       54.10         54.10  \n",
      "837         1       75.41         75.41  \n",
      "838         1       77.67         77.67  \n"
     ]
    }
   ],
   "source": [
    "# 6. Sort the dataset by total_amount in ascending order\n",
    "df[\"total_amount\"] = pd.to_numeric(df[\"total_amount\"], errors=\"coerce\")  # ensure numeric\n",
    "sorted_df = df.sort_values(by=\"total_amount\", ascending=True)\n",
    "print(sorted_df.head())\n"
   ]
  },
  {
   "cell_type": "code",
   "execution_count": 9,
   "id": "89d7fc81",
   "metadata": {},
   "outputs": [
    {
     "name": "stdout",
     "output_type": "stream",
     "text": [
      "  order_id product_category  total_amount\n",
      "0  ORD1000            Books       2775.06\n",
      "1  ORD1001             Toys       7930.80\n",
      "2  ORD1002              NaN       3014.16\n",
      "3  ORD1003             Toys       7464.85\n",
      "4  ORD1004             Toys       9515.55\n"
     ]
    }
   ],
   "source": [
    "# 7. Select only order_id, product_category, total_amount\n",
    "selected_cols = df[[\"order_id\", \"product_category\", \"total_amount\"]]\n",
    "print(selected_cols.head())\n"
   ]
  },
  {
   "cell_type": "code",
   "execution_count": 10,
   "id": "b82c72d7",
   "metadata": {},
   "outputs": [
    {
     "name": "stdout",
     "output_type": "stream",
     "text": [
      "  product_category  total_amount\n",
      "0            Books   3239.094419\n",
      "1         Clothing   3299.453354\n",
      "2      Electronics   3234.063559\n",
      "3        Groceries   3231.670197\n",
      "4             Home   2932.740000\n",
      "5             Toys   2898.226951\n"
     ]
    }
   ],
   "source": [
    "# 8. Group by product_category and calculate average of total_amount\n",
    "avg_total = df.groupby(\"product_category\")[\"total_amount\"].mean().reset_index()\n",
    "print(avg_total)"
   ]
  },
  {
   "cell_type": "code",
   "execution_count": 11,
   "id": "29ab2216",
   "metadata": {},
   "outputs": [
    {
     "name": "stdout",
     "output_type": "stream",
     "text": [
      "  order_id  total_amount  quantity  avg_item_price\n",
      "0  ORD1000       2775.06         2         1387.53\n",
      "1  ORD1001       7930.80         4         1982.70\n",
      "2  ORD1002       3014.16         2         1507.08\n",
      "3  ORD1003       7464.85         5         1492.97\n",
      "4  ORD1004       9515.55         5         1903.11\n"
     ]
    }
   ],
   "source": [
    "# 10. Create new column avg_item_price = total_amount / quantity\n",
    "df[\"avg_item_price\"] = df[\"total_amount\"] / df[\"quantity\"].replace({0: pd.NA})\n",
    "print(df[[\"order_id\", \"total_amount\", \"quantity\", \"avg_item_price\"]].head())\n"
   ]
  },
  {
   "cell_type": "code",
   "execution_count": 12,
   "id": "c7ce992d",
   "metadata": {},
   "outputs": [
    {
     "name": "stdout",
     "output_type": "stream",
     "text": [
      "payment_method          COD       Card        UPI     Wallet\n",
      "product_category                                            \n",
      "Books             120936.19  164873.67  119879.23  140960.17\n",
      "Clothing          112232.61  118311.75  138952.36  161432.99\n",
      "Electronics       153276.01  140817.91  144288.04  128010.79\n",
      "Groceries          89940.69  136083.79  121951.85  134583.14\n",
      "Home               99705.01   81371.31  124027.05  126529.72\n",
      "Toys              117982.75  149317.66  100789.95   88029.39\n"
     ]
    }
   ],
   "source": [
    "# 13. Create pivot table: total sales (total_amount)\n",
    "# Rows: product_category | Columns: payment_method\n",
    "pivot = pd.pivot_table(\n",
    "    df,\n",
    "    index=\"product_category\",\n",
    "    columns=\"payment_method\",\n",
    "    values=\"total_amount\",\n",
    "    aggfunc=\"sum\",\n",
    "    fill_value=0\n",
    ")\n",
    "print(pivot)"
   ]
  }
 ],
 "metadata": {
  "kernelspec": {
   "display_name": "visa",
   "language": "python",
   "name": "python3"
  },
  "language_info": {
   "codemirror_mode": {
    "name": "ipython",
    "version": 3
   },
   "file_extension": ".py",
   "mimetype": "text/x-python",
   "name": "python",
   "nbconvert_exporter": "python",
   "pygments_lexer": "ipython3",
   "version": "3.8.19"
  }
 },
 "nbformat": 4,
 "nbformat_minor": 5
}
