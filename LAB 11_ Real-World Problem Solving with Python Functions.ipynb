{
 "cells": [
  {
   "cell_type": "markdown",
   "id": "c43f7a56",
   "metadata": {},
   "source": [
    "# LAB 11: Real-World Problem Solving with Python Functions\n"
   ]
  },
  {
   "cell_type": "code",
   "execution_count": 1,
   "id": "96cab28e",
   "metadata": {},
   "outputs": [
    {
     "name": "stdout",
     "output_type": "stream",
     "text": [
      "Area of Rectangle: 50\n"
     ]
    }
   ],
   "source": [
    "# 1. Area of Rectangle\n",
    "\n",
    "def area_rectangle(length, width):\n",
    "    area = length * width\n",
    "    return area\n",
    "\n",
    "\n",
    "print(\"Area of Rectangle:\", area_rectangle(10, 5)) "
   ]
  },
  {
   "cell_type": "code",
   "execution_count": 2,
   "id": "15744e1f",
   "metadata": {},
   "outputs": [
    {
     "name": "stdout",
     "output_type": "stream",
     "text": [
      "Simple Interest: 100.0\n"
     ]
    }
   ],
   "source": [
    "# 2. Simple Interest Calculator\n",
    "\n",
    "def simple_interest(p, r, t):\n",
    "    interest = (p * r * t) / 100\n",
    "    return interest\n",
    "\n",
    "print(\"Simple Interest:\", simple_interest(1000, 5, 2))"
   ]
  },
  {
   "cell_type": "code",
   "execution_count": 3,
   "id": "deba655a",
   "metadata": {},
   "outputs": [
    {
     "name": "stdout",
     "output_type": "stream",
     "text": [
      "\n",
      "Student Details:\n",
      "name: Ravi\n",
      "age: 21\n",
      "course: AI\n"
     ]
    }
   ],
   "source": [
    "# 3. Student Details using **kwargs\n",
    "def show_student(**details):\n",
    "    for key, value in details.items():\n",
    "        print(f\"{key}: {value}\")\n",
    "\n",
    "print(\"\\nStudent Details:\")\n",
    "show_student(name=\"Ravi\", age=21, course=\"AI\")"
   ]
  },
  {
   "cell_type": "code",
   "execution_count": 4,
   "id": "dcef252c",
   "metadata": {},
   "outputs": [
    {
     "name": "stdout",
     "output_type": "stream",
     "text": [
      "\n",
      "Full Name: Sabina Anand\n"
     ]
    }
   ],
   "source": [
    "# 4. Create Full Name\n",
    "def full_name(first, last):\n",
    "    return first + \" \" + last\n",
    "\n",
    "print(\"\\nFull Name:\", full_name(\"Sabina\", \"Anand\")) "
   ]
  },
  {
   "cell_type": "code",
   "execution_count": 5,
   "id": "f2c900d7",
   "metadata": {},
   "outputs": [
    {
     "name": "stdout",
     "output_type": "stream",
     "text": [
      "Seconds: 300\n"
     ]
    }
   ],
   "source": [
    "# 5. Convert Minutes to Seconds\n",
    "def convert_to_seconds(minutes):\n",
    "    return minutes * 60\n",
    "\n",
    "print(\"Seconds:\", convert_to_seconds(5))"
   ]
  },
  {
   "cell_type": "code",
   "execution_count": 6,
   "id": "b19660f5",
   "metadata": {},
   "outputs": [
    {
     "name": "stdout",
     "output_type": "stream",
     "text": [
      "Email: Kavin@gmail.com\n"
     ]
    }
   ],
   "source": [
    "# 6. Create Email from Name\n",
    "\n",
    "def create_email(name, domain):\n",
    "    return name + \"@\" + domain\n",
    "\n",
    "print(\"Email:\", create_email(\"Kavin\", \"gmail.com\"))"
   ]
  }
 ],
 "metadata": {
  "kernelspec": {
   "display_name": "visa",
   "language": "python",
   "name": "python3"
  },
  "language_info": {
   "codemirror_mode": {
    "name": "ipython",
    "version": 3
   },
   "file_extension": ".py",
   "mimetype": "text/x-python",
   "name": "python",
   "nbconvert_exporter": "python",
   "pygments_lexer": "ipython3",
   "version": "3.8.19"
  }
 },
 "nbformat": 4,
 "nbformat_minor": 5
}
