{
 "cells": [
  {
   "cell_type": "markdown",
   "id": "cc29e705",
   "metadata": {},
   "source": [
    "# LAB 5 - Python Strings and Built-In Methods\n"
   ]
  },
  {
   "cell_type": "code",
   "execution_count": 1,
   "id": "1eb58587",
   "metadata": {},
   "outputs": [
    {
     "name": "stdout",
     "output_type": "stream",
     "text": [
      "Normalized Username: divitechguru\n"
     ]
    }
   ],
   "source": [
    "# Task 1: Lowercase for Username Normalization\n",
    "# Convert all characters to lowercase to ensure consistency.\n",
    "username = \"DiviTechGuru\"\n",
    "normalized_username = username.lower()\n",
    "print(\"Normalized Username:\", normalized_username)\n",
    "\n"
   ]
  },
  {
   "cell_type": "code",
   "execution_count": 2,
   "id": "345bfbe9",
   "metadata": {},
   "outputs": [
    {
     "name": "stdout",
     "output_type": "stream",
     "text": [
      "Invoice Title: LAPTOP BAG\n"
     ]
    }
   ],
   "source": [
    "# Task 2: Uppercase for Generating Invoice Titles\n",
    "# Convert item names to uppercase for invoice headings.\n",
    "item = \"laptop bag\"\n",
    "invoice_title = item.upper()\n",
    "print(\"Invoice Title:\", invoice_title)"
   ]
  },
  {
   "cell_type": "code",
   "execution_count": 3,
   "id": "56bdc722",
   "metadata": {},
   "outputs": [
    {
     "name": "stdout",
     "output_type": "stream",
     "text": [
      "Formatted Headline: Government Launches New Ai Policy\n"
     ]
    }
   ],
   "source": [
    "# Task 3: Title Case for News Headlines\n",
    "# Capitalize the first letter of each word for proper headline formatting.\n",
    "headline = \"government launches new ai policy\"\n",
    "formatted_headline = headline.title()\n",
    "print(\"Formatted Headline:\", formatted_headline)"
   ]
  },
  {
   "cell_type": "code",
   "execution_count": 4,
   "id": "54fbbc39",
   "metadata": {},
   "outputs": [
    {
     "name": "stdout",
     "output_type": "stream",
     "text": [
      "Capitalized Greeting: Hello! welcome to our store.\n"
     ]
    }
   ],
   "source": [
    "# Task 4: Capitalize for Welcome Message\n",
    "# Only capitalize the first letter of the sentence.\n",
    "greeting = \"hello! welcome to our store.\"\n",
    "capitalized_greeting = greeting.capitalize()\n",
    "print(\"Capitalized Greeting:\", capitalized_greeting)"
   ]
  },
  {
   "cell_type": "code",
   "execution_count": 5,
   "id": "8a887888",
   "metadata": {},
   "outputs": [
    {
     "name": "stdout",
     "output_type": "stream",
     "text": [
      "Cleaned Comment: Great product!\n"
     ]
    }
   ],
   "source": [
    "# Task 5: Strip for Cleaning User Input\n",
    "# Remove unnecessary leading and trailing spaces from the comment.\n",
    "comment = \" Great product! \"\n",
    "clean_comment = comment.strip()\n",
    "print(\"Cleaned Comment:\", clean_comment)\n",
    "\n"
   ]
  },
  {
   "cell_type": "code",
   "execution_count": 6,
   "id": "415ecf96",
   "metadata": {},
   "outputs": [
    {
     "name": "stdout",
     "output_type": "stream",
     "text": [
      "Translated Text: Hello! How are you?\n"
     ]
    }
   ],
   "source": [
    "# Task 6: Replace for Language Switching\n",
    "# Replace specific French words with English words.\n",
    "text = \"Bonjour! Comment ça va?\"\n",
    "translated_text = text.replace(\"Bonjour\", \"Hello\").replace(\"Comment ça va?\", \"How are you?\")\n",
    "print(\"Translated Text:\", translated_text)\n",
    "\n"
   ]
  },
  {
   "cell_type": "code",
   "execution_count": 7,
   "id": "28a81a31",
   "metadata": {},
   "outputs": [
    {
     "name": "stdout",
     "output_type": "stream",
     "text": [
      "Error Count: 2\n"
     ]
    }
   ],
   "source": [
    "# Task 7: Count for Keyword Occurrence in Feedback\n",
    "# Count how many times the word 'error' appears in feedback.\n",
    "feedback = \"error found in module1. error in module2 also.\"\n",
    "error_count = feedback.count(\"error\")\n",
    "print(\"Error Count:\", error_count)\n",
    "\n"
   ]
  },
  {
   "cell_type": "code",
   "execution_count": 8,
   "id": "c2b75845",
   "metadata": {},
   "outputs": [
    {
     "name": "stdout",
     "output_type": "stream",
     "text": [
      "Parsed Data: ['Divya', '24', 'Developer', 'Chennai']\n"
     ]
    }
   ],
   "source": [
    "# Task 8: Split for CSV Parsing\n",
    "# Split a comma-separated string into a list.\n",
    "data = \"Divya,24,Developer,Chennai\"\n",
    "parsed_data = data.split(\",\")\n",
    "print(\"Parsed Data:\", parsed_data)\n",
    "\n"
   ]
  },
  {
   "cell_type": "code",
   "execution_count": 9,
   "id": "c533d62c",
   "metadata": {},
   "outputs": [
    {
     "name": "stdout",
     "output_type": "stream",
     "text": [
      "File Path: Users/divya/Documents/Resume.pdf\n"
     ]
    }
   ],
   "source": [
    "# Task 9: Join for File Path Generation\n",
    "# Join folder names into a full path using '/' as a separator.\n",
    "folders = [\"Users\", \"divya\", \"Documents\", \"Resume.pdf\"]\n",
    "file_path = \"/\".join(folders)\n",
    "print(\"File Path:\", file_path)"
   ]
  },
  {
   "cell_type": "code",
   "execution_count": 10,
   "id": "c6689c58",
   "metadata": {},
   "outputs": [
    {
     "name": "stdout",
     "output_type": "stream",
     "text": [
      "Is Valid Name: True\n"
     ]
    }
   ],
   "source": [
    "# Task 10: isalpha for Name Validation\n",
    "# Check if the name contains only alphabetic characters.\n",
    "name = \"Arun\"\n",
    "is_valid_name = name.isalpha()\n",
    "print(\"Is Valid Name:\", is_valid_name)"
   ]
  },
  {
   "cell_type": "code",
   "execution_count": 11,
   "id": "12fc6b60",
   "metadata": {},
   "outputs": [
    {
     "name": "stdout",
     "output_type": "stream",
     "text": [
      "Is Valid Password: True\n"
     ]
    }
   ],
   "source": [
    "# Task 11: isalnum for Password Check\n",
    "# Ensure password has only letters and numbers.\n",
    "password = \"Pass1234\"\n",
    "is_valid_password = password.isalnum()\n",
    "print(\"Is Valid Password:\", is_valid_password)\n",
    "\n"
   ]
  },
  {
   "cell_type": "code",
   "execution_count": 12,
   "id": "85499718",
   "metadata": {},
   "outputs": [
    {
     "name": "stdout",
     "output_type": "stream",
     "text": [
      "Only Spaces? True\n"
     ]
    }
   ],
   "source": [
    "# Task 12: isspace for Whitespace-Only Detection\n",
    "# Detect if the input has only spaces.\n",
    "note = \" \"\n",
    "only_spaces = note.isspace()\n",
    "print(\"Only Spaces?\", only_spaces)"
   ]
  },
  {
   "cell_type": "code",
   "execution_count": 13,
   "id": "b4b8ee76",
   "metadata": {},
   "outputs": [
    {
     "name": "stdout",
     "output_type": "stream",
     "text": [
      "Toggled Text: hEllO wOrlD\n"
     ]
    }
   ],
   "source": [
    "# Task 13: Swapcase for Toggle Text Style\n",
    "# Toggle lowercase to uppercase and vice versa.\n",
    "text = \"HeLLo WoRLd\"\n",
    "toggled_text = text.swapcase()\n",
    "print(\"Toggled Text:\", toggled_text)\n",
    "\n"
   ]
  },
  {
   "cell_type": "code",
   "execution_count": 14,
   "id": "7217a9b0",
   "metadata": {},
   "outputs": [
    {
     "name": "stdout",
     "output_type": "stream",
     "text": [
      "First: A | Third: X | Last: 7\n"
     ]
    }
   ],
   "source": [
    "# Task 14: Indexing for Accessing Specific Characters\n",
    "# Extract the first, third, and last character from a string.\n",
    "coupon = \"A9X2B7\"\n",
    "first_char = coupon[0]     # First character\n",
    "third_char = coupon[2]     # Third character\n",
    "last_char = coupon[-1]     # Last character\n",
    "print(\"First:\", first_char, \"| Third:\", third_char, \"| Last:\", last_char)\n"
   ]
  },
  {
   "cell_type": "code",
   "execution_count": 15,
   "id": "38ed12e4",
   "metadata": {},
   "outputs": [
    {
     "name": "stdout",
     "output_type": "stream",
     "text": [
      "Profile Info: Sahana is 27 years old.\n"
     ]
    }
   ],
   "source": [
    "# Task 15: String Formatting for Displaying Profile Info\n",
    "# Use f-string to format name and age in a readable sentence.\n",
    "name = \"Sahana\"\n",
    "age = 27\n",
    "profile_info = f\"{name} is {age} years old.\"\n",
    "print(\"Profile Info:\", profile_info)"
   ]
  },
  {
   "cell_type": "code",
   "execution_count": 16,
   "id": "eae57b5b",
   "metadata": {},
   "outputs": [
    {
     "name": "stdout",
     "output_type": "stream",
     "text": [
      "Offer Message: Hello Ravi, you’ve received a cashback offer worth ₹1500!\n"
     ]
    }
   ],
   "source": [
    "# Task 16: Personalized Offer Message\n",
    "# 1. Strip spaces and capitalize customer name\n",
    "# 2. Format a message using f-string\n",
    "customer = \" RAVI \"\n",
    "offer_amount = 1500\n",
    "clean_customer = customer.strip().capitalize()\n",
    "offer_message = f\"Hello {clean_customer}, you’ve received a cashback offer worth ₹{offer_amount}!\"\n",
    "print(\"Offer Message:\", offer_message)"
   ]
  }
 ],
 "metadata": {
  "kernelspec": {
   "display_name": "visa",
   "language": "python",
   "name": "python3"
  },
  "language_info": {
   "codemirror_mode": {
    "name": "ipython",
    "version": 3
   },
   "file_extension": ".py",
   "mimetype": "text/x-python",
   "name": "python",
   "nbconvert_exporter": "python",
   "pygments_lexer": "ipython3",
   "version": "3.8.19"
  }
 },
 "nbformat": 4,
 "nbformat_minor": 5
}
