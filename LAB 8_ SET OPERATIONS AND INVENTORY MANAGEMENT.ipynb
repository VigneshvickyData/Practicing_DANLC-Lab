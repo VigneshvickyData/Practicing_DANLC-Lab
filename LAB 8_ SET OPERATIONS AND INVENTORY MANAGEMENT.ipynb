{
 "cells": [
  {
   "cell_type": "markdown",
   "id": "72a34355",
   "metadata": {},
   "source": [
    "LAB 8_ SET OPERATIONS AND INVENTORY MANAGEMENT"
   ]
  },
  {
   "cell_type": "code",
   "execution_count": 1,
   "id": "fe02e88d",
   "metadata": {},
   "outputs": [
    {
     "name": "stdout",
     "output_type": "stream",
     "text": [
      "Initial Inventory: {'Onion', 'Potato', 'Tomato'}\n",
      "Inventory after adding Carrot: {'Carrot', 'Onion', 'Potato', 'Tomato'}\n"
     ]
    }
   ],
   "source": [
    "# Question 1: Start the inventory\n",
    "inventory = {\"Tomato\", \"Onion\", \"Potato\"}\n",
    "print(\"Initial Inventory:\", inventory)\n",
    "\n",
    "# Add a new item \"Carrot\"\n",
    "inventory.add(\"Carrot\")\n",
    "print(\"Inventory after adding Carrot:\", inventory)"
   ]
  },
  {
   "cell_type": "code",
   "execution_count": 2,
   "id": "6617c8f6",
   "metadata": {},
   "outputs": [
    {
     "name": "stdout",
     "output_type": "stream",
     "text": [
      "Inventory after bulk stock: {'Carrot', 'Spinach', 'Onion', 'Potato', 'Cabbage', 'Beans', 'Tomato'}\n"
     ]
    }
   ],
   "source": [
    "# Question 2: Stock arrived in bulk\n",
    "bulk_items = {\"Beans\", \"Cabbage\", \"Spinach\"}\n",
    "inventory.update(bulk_items)  # Add all at once\n",
    "print(\"Inventory after bulk stock:\", inventory)"
   ]
  },
  {
   "cell_type": "code",
   "execution_count": 3,
   "id": "84868d12",
   "metadata": {},
   "outputs": [
    {
     "name": "stdout",
     "output_type": "stream",
     "text": [
      "Inventory after removing sold-out item 'Onion': {'Carrot', 'Spinach', 'Potato', 'Cabbage', 'Beans', 'Tomato'}\n"
     ]
    }
   ],
   "source": [
    "# Question 3: Remove a sold-out item\n",
    "inventory.remove(\"Onion\")  # Remove existing item\n",
    "print(\"Inventory after removing sold-out item 'Onion':\", inventory)"
   ]
  },
  {
   "cell_type": "code",
   "execution_count": 4,
   "id": "498b21e5",
   "metadata": {},
   "outputs": [
    {
     "name": "stdout",
     "output_type": "stream",
     "text": [
      "Inventory after trying to remove 'Cauliflower': {'Carrot', 'Spinach', 'Potato', 'Cabbage', 'Beans', 'Tomato'}\n"
     ]
    }
   ],
   "source": [
    "# Question 4: Attempt to remove an unavailable item\n",
    "inventory.discard(\"Cauliflower\")  # Safe removal (no error if not found)\n",
    "print(\"Inventory after trying to remove 'Cauliflower':\", inventory)"
   ]
  },
  {
   "cell_type": "code",
   "execution_count": 5,
   "id": "86fedcd3",
   "metadata": {},
   "outputs": [
    {
     "name": "stdout",
     "output_type": "stream",
     "text": [
      "Item removed due to spoilage: Carrot\n",
      "Inventory after spoilage removal: {'Spinach', 'Potato', 'Cabbage', 'Beans', 'Tomato'}\n"
     ]
    }
   ],
   "source": [
    "# Question 5: Remove any one item for spoilage\n",
    "removed_item = inventory.pop()  # Removes a random item\n",
    "print(\"Item removed due to spoilage:\", removed_item)\n",
    "print(\"Inventory after spoilage removal:\", inventory)"
   ]
  },
  {
   "cell_type": "code",
   "execution_count": 6,
   "id": "aa021380",
   "metadata": {},
   "outputs": [
    {
     "name": "stdout",
     "output_type": "stream",
     "text": [
      "Inventory after clearing shelf: set()\n"
     ]
    }
   ],
   "source": [
    "# Question 6: Clear the entire shelf\n",
    "inventory.clear()  # Remove all items\n",
    "print(\"Inventory after clearing shelf:\", inventory)"
   ]
  },
  {
   "cell_type": "code",
   "execution_count": 7,
   "id": "879ceb38",
   "metadata": {},
   "outputs": [
    {
     "name": "stdout",
     "output_type": "stream",
     "text": [
      "Original Inventory after changes: {'Cabbage', 'Broccoli', 'Beans', 'Tomato'}\n",
      "Backup Inventory (unchanged): {'Cabbage', 'Beans', 'Potato', 'Tomato'}\n"
     ]
    }
   ],
   "source": [
    "# Question 7: Backup before making changes\n",
    "original_inventory = {\"Tomato\", \"Potato\", \"Beans\", \"Cabbage\"}\n",
    "backup_inventory = original_inventory.copy()  # Make a copy\n",
    "\n",
    "# Modify original inventory\n",
    "original_inventory.add(\"Broccoli\")\n",
    "original_inventory.remove(\"Potato\")\n",
    "\n",
    "print(\"Original Inventory after changes:\", original_inventory)\n",
    "print(\"Backup Inventory (unchanged):\", backup_inventory)"
   ]
  },
  {
   "cell_type": "code",
   "execution_count": 8,
   "id": "e64393dc",
   "metadata": {},
   "outputs": [
    {
     "name": "stdout",
     "output_type": "stream",
     "text": [
      "Combined Inventory (Union): {'Carrot', 'Potato', 'Broccoli', 'Cabbage', 'Tomato'}\n"
     ]
    }
   ],
   "source": [
    "# Question 8: Combine two store inventories using union()\n",
    "branch_A = {\"Tomato\", \"Potato\", \"Cabbage\"}\n",
    "branch_B = {\"Potato\", \"Carrot\", \"Broccoli\"}\n",
    "\n",
    "combined_inventory = branch_A.union(branch_B)\n",
    "print(\"Combined Inventory (Union):\", combined_inventory)"
   ]
  },
  {
   "cell_type": "code",
   "execution_count": 9,
   "id": "164d6b7d",
   "metadata": {},
   "outputs": [
    {
     "name": "stdout",
     "output_type": "stream",
     "text": [
      "Common Items (Intersection): {'Potato'}\n"
     ]
    }
   ],
   "source": [
    "# Question 9: Find commonly stocked items using intersection()\n",
    "common_items = branch_A.intersection(branch_B)\n",
    "print(\"Common Items (Intersection):\", common_items)"
   ]
  },
  {
   "cell_type": "code",
   "execution_count": 10,
   "id": "c1a0b336",
   "metadata": {},
   "outputs": [
    {
     "name": "stdout",
     "output_type": "stream",
     "text": [
      "Items only in Branch A (Difference): {'Cabbage', 'Tomato'}\n"
     ]
    }
   ],
   "source": [
    "# Question 10: Items only in Branch A using difference()\n",
    "only_in_A = branch_A.difference(branch_B)\n",
    "print(\"Items only in Branch A (Difference):\", only_in_A)"
   ]
  },
  {
   "cell_type": "code",
   "execution_count": 11,
   "id": "91019e20",
   "metadata": {},
   "outputs": [
    {
     "name": "stdout",
     "output_type": "stream",
     "text": [
      "Unique Items in either Branch A or B (Symmetric Difference): {'Carrot', 'Cabbage', 'Broccoli', 'Tomato'}\n"
     ]
    }
   ],
   "source": [
    "# Question 11: Unique items using symmetric_difference()\n",
    "unique_items = branch_A.symmetric_difference(branch_B)\n",
    "print(\"Unique Items in either Branch A or B (Symmetric Difference):\", unique_items)"
   ]
  },
  {
   "cell_type": "code",
   "execution_count": 12,
   "id": "6fe3d29b",
   "metadata": {},
   "outputs": [
    {
     "name": "stdout",
     "output_type": "stream",
     "text": [
      "Is Delivery 1 and Delivery 2 disjoint (no common items)? True\n"
     ]
    }
   ],
   "source": [
    "# Question 12: Check overlap using isdisjoint()\n",
    "delivery1 = {\"Orange\", \"Banana\"}\n",
    "delivery2 = {\"Milk\", \"Cheese\"}\n",
    "is_disjoint = delivery1.isdisjoint(delivery2)\n",
    "print(\"Is Delivery 1 and Delivery 2 disjoint (no common items)?\", is_disjoint)"
   ]
  },
  {
   "cell_type": "code",
   "execution_count": 13,
   "id": "5f5f54e2",
   "metadata": {},
   "outputs": [
    {
     "name": "stdout",
     "output_type": "stream",
     "text": [
      "Is Inventory a superset of Offer Basket? True\n"
     ]
    }
   ],
   "source": [
    "# Question 13: Check if inventory is a superset of offer basket\n",
    "inventory_check = {\"Tomato\", \"Potato\", \"Beans\", \"Carrot\", \"Cabbage\"}\n",
    "offer_basket = {\"Carrot\", \"Beans\"}\n",
    "is_superset = inventory_check.issuperset(offer_basket)\n",
    "print(\"Is Inventory a superset of Offer Basket?\", is_superset)"
   ]
  },
  {
   "cell_type": "code",
   "execution_count": 14,
   "id": "5f000bbc",
   "metadata": {},
   "outputs": [
    {
     "name": "stdout",
     "output_type": "stream",
     "text": [
      "Inventory fully includes the order? (Using issuperset again): True\n"
     ]
    }
   ],
   "source": [
    "# Question 14: Rechecking with issuperset (same scenario)\n",
    "is_superset_again = inventory_check.issuperset(offer_basket)\n",
    "print(\"Inventory fully includes the order? (Using issuperset again):\", is_superset_again)"
   ]
  }
 ],
 "metadata": {
  "kernelspec": {
   "display_name": "visa",
   "language": "python",
   "name": "python3"
  },
  "language_info": {
   "codemirror_mode": {
    "name": "ipython",
    "version": 3
   },
   "file_extension": ".py",
   "mimetype": "text/x-python",
   "name": "python",
   "nbconvert_exporter": "python",
   "pygments_lexer": "ipython3",
   "version": "3.8.19"
  }
 },
 "nbformat": 4,
 "nbformat_minor": 5
}
