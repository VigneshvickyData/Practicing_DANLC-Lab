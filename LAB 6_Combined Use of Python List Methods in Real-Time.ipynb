{
 "cells": [
  {
   "cell_type": "markdown",
   "id": "87ff318d",
   "metadata": {},
   "source": [
    "## LAB 6: Combined Use of Python List Methods in Real-Time"
   ]
  },
  {
   "cell_type": "markdown",
   "id": "9cdd2f14",
   "metadata": {},
   "source": [
    "### Scenario:\n",
    "A teacher is managing the registration process for a virtual webinar. The list of student\n",
    "participants must be updated dynamically based on various events such as new\n",
    "registrations, group entries, duplicate removals, cancellations, and more"
   ]
  },
  {
   "cell_type": "code",
   "execution_count": 2,
   "id": "59a91819",
   "metadata": {},
   "outputs": [
    {
     "name": "stdout",
     "output_type": "stream",
     "text": [
      "Initial List: ['Arun', 'Bala', 'Divya', 'Farhan']\n"
     ]
    }
   ],
   "source": [
    "# Ques 1: Create Initial List\n",
    "# Create Initial List\n",
    "participants = [\"Arun\", \"Bala\", \"Divya\", \"Farhan\"]\n",
    "print(\"Initial List:\", participants)\n"
   ]
  },
  {
   "cell_type": "code",
   "execution_count": 3,
   "id": "ecc86674",
   "metadata": {},
   "outputs": [
    {
     "name": "stdout",
     "output_type": "stream",
     "text": [
      "After Geetha's Entry: ['Arun', 'Bala', 'Divya', 'Farhan', 'Geetha']\n",
      "Total Participants: 5\n"
     ]
    }
   ],
   "source": [
    "# Ques 2: Late Entry\n",
    "# Late Entry: Add Geetha at the end\n",
    "participants.append(\"Geetha\")\n",
    "print(\"After Geetha's Entry:\", participants)\n",
    "print(\"Total Participants:\", len(participants))\n"
   ]
  },
  {
   "cell_type": "code",
   "execution_count": 4,
   "id": "bc9be996",
   "metadata": {},
   "outputs": [
    {
     "name": "stdout",
     "output_type": "stream",
     "text": [
      "After VIP Entry: ['VIP_Anil', 'Arun', 'Bala', 'Divya', 'Farhan', 'Geetha']\n",
      "VIP at Top?: True\n"
     ]
    }
   ],
   "source": [
    "# Ques 3: VIP Registration\n",
    "# VIP Registration: Add 'VIP_Anil' at the beginning\n",
    "participants.insert(0, \"VIP_Anil\")\n",
    "print(\"After VIP Entry:\", participants)\n",
    "print(\"VIP at Top?:\", participants[0] == \"VIP_Anil\")\n"
   ]
  },
  {
   "cell_type": "code",
   "execution_count": 5,
   "id": "26b9e75c",
   "metadata": {},
   "outputs": [
    {
     "name": "stdout",
     "output_type": "stream",
     "text": [
      "After Group Entry: ['VIP_Anil', 'Arun', 'Bala', 'Divya', 'Farhan', 'Geetha', 'Hari', 'Isha', 'John', 'Divya']\n",
      "Divya appears more than once?: True\n"
     ]
    }
   ],
   "source": [
    "# Ques 4: Group Registration\n",
    "# Group Registration: Add a group at once\n",
    "group = [\"Hari\", \"Isha\", \"John\", \"Divya\"]\n",
    "participants.extend(group)\n",
    "print(\"After Group Entry:\", participants)\n",
    "print(\"Divya appears more than once?:\", participants.count(\"Divya\") > 1)\n"
   ]
  },
  {
   "cell_type": "code",
   "execution_count": 6,
   "id": "5024a4e6",
   "metadata": {},
   "outputs": [
    {
     "name": "stdout",
     "output_type": "stream",
     "text": [
      "After Removing Duplicate 'Divya': ['VIP_Anil', 'Arun', 'Bala', 'Divya', 'Farhan', 'Geetha', 'Hari', 'Isha', 'John']\n"
     ]
    }
   ],
   "source": [
    "# Ques 5: Remove One Duplicate Entry\n",
    "# Remove second occurrence of 'Divya'\n",
    "first_index = participants.index(\"Divya\")\n",
    "second_index = participants.index(\"Divya\", first_index + 1)\n",
    "participants.pop(second_index)\n",
    "print(\"After Removing Duplicate 'Divya':\", participants)\n"
   ]
  },
  {
   "cell_type": "code",
   "execution_count": 7,
   "id": "5c5ac75a",
   "metadata": {},
   "outputs": [
    {
     "name": "stdout",
     "output_type": "stream",
     "text": [
      "Withdrawn Participant: Bala\n",
      "List After Withdrawal: ['VIP_Anil', 'Arun', 'Divya', 'Farhan', 'Geetha', 'Hari', 'Isha', 'John']\n"
     ]
    }
   ],
   "source": [
    "# Ques 6: Withdrawal Before Deadline\n",
    "# Withdrawal: Remove participant at index 2\n",
    "withdrawn = participants.pop(2)\n",
    "print(\"Withdrawn Participant:\", withdrawn)\n",
    "print(\"List After Withdrawal:\", participants)\n"
   ]
  },
  {
   "cell_type": "code",
   "execution_count": 8,
   "id": "112e7162",
   "metadata": {},
   "outputs": [
    {
     "name": "stdout",
     "output_type": "stream",
     "text": [
      "List Cleared: []\n",
      "Is List Empty?: True\n"
     ]
    }
   ],
   "source": [
    "# Ques 7: Clear All Registrations\n",
    "# Clear All Registrations\n",
    "participants.clear()\n",
    "print(\"List Cleared:\", participants)\n",
    "print(\"Is List Empty?:\", len(participants) == 0)\n"
   ]
  },
  {
   "cell_type": "code",
   "execution_count": 9,
   "id": "d8d9419b",
   "metadata": {},
   "outputs": [
    {
     "name": "stdout",
     "output_type": "stream",
     "text": [
      "New Registration List: ['Keerthana', 'Liam', 'Meera', 'Nithya', 'Omar']\n"
     ]
    }
   ],
   "source": [
    "# Ques 8: Restart Registrations\n",
    "# Restart Registrations with new names\n",
    "participants = [\"Keerthana\", \"Liam\", \"Meera\", \"Nithya\", \"Omar\"]\n",
    "print(\"New Registration List:\", participants)\n"
   ]
  },
  {
   "cell_type": "code",
   "execution_count": 10,
   "id": "7045ae0d",
   "metadata": {},
   "outputs": [
    {
     "name": "stdout",
     "output_type": "stream",
     "text": [
      "Meera is located at position 2\n"
     ]
    }
   ],
   "source": [
    "# Ques 9: Name Lookup by Index\n",
    "# Find index of 'Meera'\n",
    "meera_index = participants.index(\"Meera\")\n",
    "print(f\"Meera is located at position {meera_index}\")\n"
   ]
  },
  {
   "cell_type": "code",
   "execution_count": 11,
   "id": "7b01aea0",
   "metadata": {},
   "outputs": [
    {
     "name": "stdout",
     "output_type": "stream",
     "text": [
      "List after adding duplicate Liam: ['Keerthana', 'Liam', 'Meera', 'Nithya', 'Omar', 'Liam']\n",
      "Liam appears 2 times\n"
     ]
    }
   ],
   "source": [
    "# Ques 10: Mistaken Duplicate Entry\n",
    "# Add 'Liam' again and count\n",
    "participants.append(\"Liam\")\n",
    "liam_count = participants.count(\"Liam\")\n",
    "print(\"List after adding duplicate Liam:\", participants)\n",
    "print(\"Liam appears\", liam_count, \"times\")\n"
   ]
  },
  {
   "cell_type": "code",
   "execution_count": 12,
   "id": "ca91aa08",
   "metadata": {},
   "outputs": [
    {
     "name": "stdout",
     "output_type": "stream",
     "text": [
      "Sorted A-Z: ['Keerthana', 'Liam', 'Liam', 'Meera', 'Nithya', 'Omar']\n",
      "Sorted Z-A: ['Omar', 'Nithya', 'Meera', 'Liam', 'Liam', 'Keerthana']\n"
     ]
    }
   ],
   "source": [
    "#Ques 11: Alphabetical Sorting\n",
    "# Sort participants in ascending (A-Z) and descending (Z-A) order\n",
    "asc_sorted = sorted(participants)\n",
    "desc_sorted = sorted(participants, reverse=True)\n",
    "print(\"Sorted A-Z:\", asc_sorted)\n",
    "print(\"Sorted Z-A:\", desc_sorted)\n"
   ]
  },
  {
   "cell_type": "code",
   "execution_count": 13,
   "id": "d3e0115f",
   "metadata": {},
   "outputs": [
    {
     "name": "stdout",
     "output_type": "stream",
     "text": [
      "Reversed List for Badge ID: ['Liam', 'Omar', 'Nithya', 'Meera', 'Liam', 'Keerthana']\n"
     ]
    }
   ],
   "source": [
    "# Ques 12: Reverse ID Generation\n",
    "# Reverse participant list for ID badge generation\n",
    "participants.reverse()\n",
    "print(\"Reversed List for Badge ID:\", participants)\n"
   ]
  },
  {
   "cell_type": "code",
   "execution_count": 14,
   "id": "9f3840bd",
   "metadata": {},
   "outputs": [
    {
     "name": "stdout",
     "output_type": "stream",
     "text": [
      "Modified Original List: ['Liam', 'Omar', 'Nithya', 'Meera', 'Liam', 'Keerthana', 'Temporary']\n",
      "Unchanged Backup List: ['Liam', 'Omar', 'Nithya', 'Meera', 'Liam', 'Keerthana']\n"
     ]
    }
   ],
   "source": [
    "# Ques 13: Create a Backup\n",
    "# Create a backup before modifying\n",
    "backup_list = participants.copy()\n",
    "participants.append(\"Temporary\")\n",
    "print(\"Modified Original List:\", participants)\n",
    "print(\"Unchanged Backup List:\", backup_list)\n"
   ]
  },
  {
   "cell_type": "code",
   "execution_count": 15,
   "id": "bffccaf8",
   "metadata": {},
   "outputs": [
    {
     "name": "stdout",
     "output_type": "stream",
     "text": [
      "After Adding Latecomers: ['Liam', 'Omar', 'Nithya', 'Meera', 'Liam', 'Keerthana', 'Temporary', 'Pranav', 'Aadhya']\n"
     ]
    }
   ],
   "source": [
    "# Ques 14: Add Multiple Late Entries\n",
    "# Add latecomers 'Pranav' and 'Aadhya' at once\n",
    "late_entries = [\"Pranav\", \"Aadhya\"]\n",
    "participants.extend(late_entries)\n",
    "print(\"After Adding Latecomers:\", participants)\n"
   ]
  },
  {
   "cell_type": "code",
   "execution_count": 16,
   "id": "b093a663",
   "metadata": {},
   "outputs": [
    {
     "name": "stdout",
     "output_type": "stream",
     "text": [
      "After Inserting Mentor_Ravi: ['Liam', 'Mentor_Ravi', 'Omar', 'Nithya', 'Meera', 'Liam', 'Keerthana', 'Temporary', 'Pranav', 'Aadhya']\n"
     ]
    }
   ],
   "source": [
    "# Ques 15: Insert at Specific Position\n",
    "# Insert 'Mentor_Ravi' after first occurrence of 'Liam'\n",
    "liam_index = participants.index(\"Liam\")\n",
    "participants.insert(liam_index + 1, \"Mentor_Ravi\")\n",
    "print(\"After Inserting Mentor_Ravi:\", participants)\n"
   ]
  }
 ],
 "metadata": {
  "kernelspec": {
   "display_name": "visa",
   "language": "python",
   "name": "python3"
  },
  "language_info": {
   "codemirror_mode": {
    "name": "ipython",
    "version": 3
   },
   "file_extension": ".py",
   "mimetype": "text/x-python",
   "name": "python",
   "nbconvert_exporter": "python",
   "pygments_lexer": "ipython3",
   "version": "3.8.19"
  }
 },
 "nbformat": 4,
 "nbformat_minor": 5
}
