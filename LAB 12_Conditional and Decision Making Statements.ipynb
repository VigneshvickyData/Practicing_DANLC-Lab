{
 "cells": [
  {
   "cell_type": "markdown",
   "id": "451ca0f8",
   "metadata": {},
   "source": [
    "# LAB 12: Conditional / Decision Making Statements\n",
    "\n"
   ]
  },
  {
   "cell_type": "code",
   "execution_count": 1,
   "id": "9d56385c",
   "metadata": {},
   "outputs": [
    {
     "name": "stdout",
     "output_type": "stream",
     "text": [
      "Weather Condition: Cold\n",
      "\n",
      "\n"
     ]
    }
   ],
   "source": [
    "# Ques 1: Weather Checker\n",
    "temperature = float(input(\"Enter the temperature in °C: \"))\n",
    "\n",
    "if temperature < 15:\n",
    "    print(\"Weather Condition: Cold\")       \n",
    "elif 15 <= temperature <= 25:\n",
    "    print(\"Weather Condition: Warm\")        \n",
    "else:\n",
    "    print(\"Weather Condition: Hot\")     \n",
    "\n",
    "print(\"\\n\")"
   ]
  },
  {
   "cell_type": "code",
   "execution_count": 2,
   "id": "56cefce0",
   "metadata": {},
   "outputs": [
    {
     "name": "stdout",
     "output_type": "stream",
     "text": [
      "Grade: A\n",
      "\n",
      "\n"
     ]
    }
   ],
   "source": [
    "# Ques 2: Student Grading System\n",
    "mark = int(input(\"Enter student's mark: \"))\n",
    "\n",
    "if mark > 90:\n",
    "    print(\"Grade: A\")                       \n",
    "elif mark > 75:\n",
    "    print(\"Grade: B\")                      \n",
    "elif mark > 60:\n",
    "    print(\"Grade: C\")                    \n",
    "elif mark > 40:\n",
    "    print(\"Grade: D\")                     \n",
    "else:\n",
    "    print(\"Grade: Fail\")                    \n",
    "\n",
    "print(\"\\n\")\n"
   ]
  },
  {
   "cell_type": "code",
   "execution_count": 4,
   "id": "9d2b3e12",
   "metadata": {},
   "outputs": [
    {
     "name": "stdout",
     "output_type": "stream",
     "text": [
      "Ticket Price: ₹150\n",
      "\n",
      "\n"
     ]
    }
   ],
   "source": [
    "# Ques 3: Movie Ticket Pricing\n",
    "\n",
    "age = int(input(\"Enter your age: \"))\n",
    "\n",
    "if age < 12:\n",
    "    print(\"Ticket Price: ₹100\")             \n",
    "elif age <= 60:\n",
    "    print(\"Ticket Price: ₹150\")            \n",
    "else:\n",
    "    print(\"Ticket Price: ₹120\")            \n",
    "\n",
    "print(\"\\n\")"
   ]
  },
  {
   "cell_type": "code",
   "execution_count": 5,
   "id": "fda19022",
   "metadata": {},
   "outputs": [
    {
     "name": "stdout",
     "output_type": "stream",
     "text": [
      "Battery Status: Good\n",
      "\n",
      "\n"
     ]
    }
   ],
   "source": [
    "# Ques 4: Battery Status Checker\n",
    "\n",
    "battery = int(input(\"Enter mobile battery percentage: \"))\n",
    "\n",
    "if battery < 20:\n",
    "    print(\"Battery Status: Low battery\")    \n",
    "elif battery <= 80:\n",
    "    print(\"Battery Status: Good\")          \n",
    "else:\n",
    "    print(\"Battery Status: Full\")     \n",
    "\n",
    "print(\"\\n\")"
   ]
  },
  {
   "cell_type": "code",
   "execution_count": 6,
   "id": "7d49aef2",
   "metadata": {},
   "outputs": [
    {
     "name": "stdout",
     "output_type": "stream",
     "text": [
      "Instruction: Please insert cash\n"
     ]
    }
   ],
   "source": [
    "# Ques 5: Online Payment Method Checker\n",
    "method = input(\"Enter payment method (UPI/Card/Cash): \").strip().lower()\n",
    "\n",
    "if method == \"upi\":\n",
    "    print(\"Instruction: Scan QR to Pay\")\n",
    "elif method == \"card\":\n",
    "    print(\"Instruction: Insert or Swipe Card\")\n",
    "elif method == \"cash\":\n",
    "    print(\"Instruction: Please insert cash\")\n",
    "else:\n",
    "    print(\"Instruction: Invalid option\")"
   ]
  }
 ],
 "metadata": {
  "kernelspec": {
   "display_name": "visa",
   "language": "python",
   "name": "python3"
  },
  "language_info": {
   "codemirror_mode": {
    "name": "ipython",
    "version": 3
   },
   "file_extension": ".py",
   "mimetype": "text/x-python",
   "name": "python",
   "nbconvert_exporter": "python",
   "pygments_lexer": "ipython3",
   "version": "3.8.19"
  }
 },
 "nbformat": 4,
 "nbformat_minor": 5
}
